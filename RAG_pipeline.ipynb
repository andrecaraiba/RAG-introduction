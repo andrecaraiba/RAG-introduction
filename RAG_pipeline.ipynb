{
 "cells": [
  {
   "cell_type": "code",
   "execution_count": 25,
   "metadata": {},
   "outputs": [],
   "source": [
    "from langchain_community.document_loaders import PyPDFLoader\n",
    "import os\n",
    "\n",
    "DATA_PATH = os.path.join(os.getcwd(), \"paul.pdf\")\n",
    "\n",
    "\n",
    "loader = PyPDFLoader(DATA_PATH)"
   ]
  },
  {
   "cell_type": "markdown",
   "metadata": {},
   "source": [
    "# Load Documents"
   ]
  },
  {
   "cell_type": "code",
   "execution_count": 26,
   "metadata": {},
   "outputs": [
    {
     "data": {
      "text/plain": [
       "[Document(metadata={'source': '/home/dreca/dev/RAG-introduction/paul.pdf', 'page': 0}, page_content=' Want to start a startup? Get funded by Y Combinator.\\nJuly 2013\\nOne of the most common types of advice we give at Y Combinator\\nis to do things that don\\'t scale. A lot of would-be founders believe\\nthat startups either take off or don\\'t. You build something, make\\nit available, and if you\\'ve made a better mousetrap, people beat a\\npath to your door as promised. Or they don\\'t, in which case the\\nmarket must not exist. [1]\\nActually startups take off because the founders make them take\\noff. There may be a handful that just grew by themselves, but\\nusually it takes some sort of push to get them going. A good\\nmetaphor would be the cranks that car engines had before they\\ngot electric starters. Once the engine was going, it would keep\\ngoing, but there was a separate and laborious process to get it\\ngoing.\\nRecruit\\nThe most common unscalable thing founders have to do at the\\nstart is to recruit users manually. Nearly all startups have to. You\\ncan\\'t wait for users to come to you. You have to go out and get\\nthem.\\nStripe is one of the most successful startups we\\'ve funded, and\\nthe problem they solved was an urgent one. If anyone could have\\nsat back and waited for users, it was Stripe. But in fact they\\'re\\nfamous within YC for aggressive early user acquisition.\\nStartups building things for other startups have a big pool of\\npotential users in the other companies we\\'ve funded, and none\\ntook better advantage of it than Stripe. At YC we use the term\\n\"Collison installation\" for the technique they invented. More\\ndiffident founders ask \"Will you try our beta?\" and if the answer is\\nyes, they say \"Great, we\\'ll send you a link.\" But the Collison\\nbrothers weren\\'t going to wait. When anyone agreed to try Stripe\\nthey\\'d say \"Right then, give me your laptop\" and set them up on\\nthe spot.\\nThere are two reasons founders resist going out and recruiting\\nusers individually. One is a combination of shyness and laziness.\\nThey\\'d rather sit at home writing code than go out and talk to a\\nbunch of strangers and probably be rejected by most of them.\\nBut for a startup to succeed, at least one founder (usually the\\nCEO) will have to spend a lot of time on sales and marketing. [2]\\nThe other reason founders ignore this path is that the absolute\\nnumbers seem so small at first. This can\\'t be how the big, famous\\nstartups got started, they think. The mistake they make is to\\nunderestimate the power of compound growth. We encourage\\nevery startup to measure their progress by weekly growth rate. If\\nyou have 100 users, you need to get 10 more next week to grow\\n8/6/24, 11:04 AM Do Things that Don\\'t Scale\\nhttps://paulgraham.com/ds.html 1/9'),\n",
       " Document(metadata={'source': '/home/dreca/dev/RAG-introduction/paul.pdf', 'page': 1}, page_content='10% a week. And while 110 may not seem much better than 100,\\nif you keep growing at 10% a week you\\'ll be surprised how big\\nthe numbers get. After a year you\\'ll have 14,000 users, and after\\n2 years you\\'ll have 2 million.\\nYou\\'ll be doing different things when you\\'re acquiring users a\\nthousand at a time, and growth has to slow down eventually. But\\nif the market exists you can usually start by recruiting users\\nmanually and then gradually switch to less manual methods. [3]\\nAirbnb is a classic example of this technique. Marketplaces are so\\nhard to get rolling that you should expect to take heroic measures\\nat first. In Airbnb\\'s case, these consisted of going door to door in\\nNew York, recruiting new users and helping existing ones improve\\ntheir listings. When I remember the Airbnbs during YC, I picture\\nthem with rolly bags, because when they showed up for tuesday\\ndinners they\\'d always just flown back from somewhere.\\nFragile\\nAirbnb now seems like an unstoppable juggernaut, but early on it\\nwas so fragile that about 30 days of going out and engaging in\\nperson with users made the difference between success and\\nfailure.\\nThat initial fragility was not a unique feature of Airbnb. Almost all\\nstartups are fragile initially. And that\\'s one of the biggest things\\ninexperienced founders and investors (and reporters and know-it-\\nalls on forums) get wrong about them. They unconsciously judge\\nlarval startups by the standards of established ones. They\\'re like\\nsomeone looking at a newborn baby and concluding \"there\\'s no\\nway this tiny creature could ever accomplish anything.\"\\nIt\\'s harmless if reporters and know-it-alls dismiss your startup.\\nThey always get things wrong. It\\'s even ok if investors dismiss\\nyour startup; they\\'ll change their minds when they see growth.\\nThe big danger is that you\\'ll dismiss your startup yourself. I\\'ve\\nseen it happen. I often have to encourage founders who don\\'t see\\nthe full potential of what they\\'re building. Even Bill Gates made\\nthat mistake. He returned to Harvard for the fall semester after\\nstarting Microsoft. He didn\\'t stay long, but he wouldn\\'t have\\nreturned at all if he\\'d realized Microsoft was going to be even a\\nfraction of the size it turned out to be. [4]\\nThe question to ask about an early stage startup is not \"is this\\ncompany taking over the world?\" but \"how big could this company\\nget if the founders did the right things?\" And the right things\\noften seem both laborious and inconsequential at the time.\\nMicrosoft can\\'t have seemed very impressive when it was just a\\ncouple guys in Albuquerque writing Basic interpreters for a\\nmarket of a few thousand hobbyists (as they were then called),\\nbut in retrospect that was the optimal path to dominating\\nmicrocomputer software. And I know Brian Chesky and Joe\\nGebbia didn\\'t feel like they were en route to the big time as they\\nwere taking \"professional\" photos of their first hosts\\' apartments.\\nThey were just trying to survive. But in retrospect that too was\\nthe optimal path to dominating a big market.\\nHow do you find users to recruit manually? If you build something\\nto solve your own problems, then you only have to find your\\npeers, which is usually straightforward. Otherwise you\\'ll have to\\n8/6/24, 11:04 AM Do Things that Don\\'t Scale\\nhttps://paulgraham.com/ds.html 2/9'),\n",
       " Document(metadata={'source': '/home/dreca/dev/RAG-introduction/paul.pdf', 'page': 2}, page_content=\"make a more deliberate effort to locate the most promising vein\\nof users. The usual way to do that is to get some initial set of\\nusers by doing a comparatively untargeted launch, and then to\\nobserve which kind seem most enthusiastic, and seek out more\\nlike them. For example, Ben Silbermann noticed that a lot of the\\nearliest Pinterest users were interested in design, so he went to a\\nconference of design bloggers to recruit users, and that worked\\nwell. [5]\\nDelight\\nYou should take extraordinary measures not just to acquire users,\\nbut also to make them happy. For as long as they could (which\\nturned out to be surprisingly long), Wufoo sent each new user a\\nhand-written thank you note. Your first users should feel that\\nsigning up with you was one of the best choices they ever made.\\nAnd you in turn should be racking your brains to think of new\\nways to delight them.\\nWhy do we have to teach startups this? Why is it counterintuitive\\nfor founders? Three reasons, I think.\\nOne is that a lot of startup founders are trained as engineers, and\\ncustomer service is not part of the training of engineers. You're\\nsupposed to build things that are robust and elegant, not be\\nslavishly attentive to individual users like some kind of\\nsalesperson. Ironically, part of the reason engineering is\\ntraditionally averse to handholding is that its traditions date from\\na time when engineers were less powerful — when they were only\\nin charge of their narrow domain of building things, rather than\\nrunning the whole show. You can be ornery when you're Scotty,\\nbut not when you're Kirk.\\nAnother reason founders don't focus enough on individual\\ncustomers is that they worry it won't scale. But when founders of\\nlarval startups worry about this, I point out that in their current\\nstate they have nothing to lose. Maybe if they go out of their way\\nto make existing users super happy, they'll one day have too\\nmany to do so much for. That would be a great problem to have.\\nSee if you can make it happen. And incidentally, when it does,\\nyou'll find that delighting customers scales better than you\\nexpected. Partly because you can usually find ways to make\\nanything scale more than you would have predicted, and partly\\nbecause delighting customers will by then have permeated your\\nculture.\\nI have never once seen a startup lured down a blind alley by\\ntrying too hard to make their initial users happy.\\nBut perhaps the biggest thing preventing founders from realizing\\nhow attentive they could be to their users is that they've never\\nexperienced such attention themselves. Their standards for\\ncustomer service have been set by the companies they've been\\ncustomers of, which are mostly big ones. Tim Cook doesn't send\\nyou a hand-written note after you buy a laptop. He can't. But you\\ncan. That's one advantage of being small: you can provide a level\\nof service no big company can. [6]\\nOnce you realize that existing conventions are not the upper\\nbound on user experience, it's interesting in a very pleasant way\\nto think about how far you could go to delight your users.\\n8/6/24, 11:04 AM Do Things that Don't Scale\\nhttps://paulgraham.com/ds.html 3/9\"),\n",
       " Document(metadata={'source': '/home/dreca/dev/RAG-introduction/paul.pdf', 'page': 3}, page_content='Experience\\nI was trying to think of a phrase to convey how extreme your\\nattention to users should be, and I realized Steve Jobs had\\nalready done it: insanely great. Steve wasn\\'t just using \"insanely\"\\nas a synonym for \"very.\" He meant it more literally — that one\\nshould focus on quality of execution to a degree that in everyday\\nlife would be considered pathological.\\nAll the most successful startups we\\'ve funded have, and that\\nprobably doesn\\'t surprise would-be founders. What novice\\nfounders don\\'t get is what insanely great translates to in a larval\\nstartup. When Steve Jobs started using that phrase, Apple was\\nalready an established company. He meant the Mac (and its\\ndocumentation and even packaging — such is the nature of\\nobsession) should be insanely well designed and manufactured.\\nThat\\'s not hard for engineers to grasp. It\\'s just a more extreme\\nversion of designing a robust and elegant product.\\nWhat founders have a hard time grasping (and Steve himself\\nmight have had a hard time grasping) is what insanely great\\nmorphs into as you roll the time slider back to the first couple\\nmonths of a startup\\'s life. It\\'s not the product that should be\\ninsanely great, but the experience of being your user. The product\\nis just one component of that. For a big company it\\'s necessarily\\nthe dominant one. But you can and should give users an insanely\\ngreat experience with an early, incomplete, buggy product, if you\\nmake up the difference with attentiveness.\\nCan, perhaps, but should? Yes. Over-engaging with early users is\\nnot just a permissible technique for getting growth rolling. For\\nmost successful startups it\\'s a necessary part of the feedback\\nloop that makes the product good. Making a better mousetrap is\\nnot an atomic operation. Even if you start the way most\\nsuccessful startups have, by building something you yourself\\nneed, the first thing you build is never quite right. And except in\\ndomains with big penalties for making mistakes, it\\'s often better\\nnot to aim for perfection initially. In software, especially, it usually\\nworks best to get something in front of users as soon as it has a\\nquantum of utility, and then see what they do with it.\\nPerfectionism is often an excuse for procrastination, and in any\\ncase your initial model of users is always inaccurate, even if\\nyou\\'re one of them. [7]\\nThe feedback you get from engaging directly with your earliest\\nusers will be the best you ever get. When you\\'re so big you have\\nto resort to focus groups, you\\'ll wish you could go over to your\\nusers\\' homes and offices and watch them use your stuff like you\\ndid when there were only a handful of them.\\nFire\\nSometimes the right unscalable trick is to focus on a deliberately\\nnarrow market. It\\'s like keeping a fire contained at first to get it\\nreally hot before adding more logs.\\nThat\\'s what Facebook did. At first it was just for Harvard\\nstudents. In that form it only had a potential market of a few\\nthousand people, but because they felt it was really for them, a\\ncritical mass of them signed up. After Facebook stopped being for\\n8/6/24, 11:04 AM Do Things that Don\\'t Scale\\nhttps://paulgraham.com/ds.html 4/9'),\n",
       " Document(metadata={'source': '/home/dreca/dev/RAG-introduction/paul.pdf', 'page': 4}, page_content='Harvard students, it remained for students at specific colleges for\\nquite a while. When I interviewed Mark Zuckerberg at Startup\\nSchool, he said that while it was a lot of work creating course lists\\nfor each school, doing that made students feel the site was their\\nnatural home.\\nAny startup that could be described as a marketplace usually has\\nto start in a subset of the market, but this can work for other\\nstartups as well. It\\'s always worth asking if there\\'s a subset of the\\nmarket in which you can get a critical mass of users quickly. [8]\\nMost startups that use the contained fire strategy do it\\nunconsciously. They build something for themselves and their\\nfriends, who happen to be the early adopters, and only realize\\nlater that they could offer it to a broader market. The strategy\\nworks just as well if you do it unconsciously. The biggest danger\\nof not being consciously aware of this pattern is for those who\\nnaively discard part of it. E.g. if you don\\'t build something for\\nyourself and your friends, or even if you do, but you come from\\nthe corporate world and your friends are not early adopters, you\\'ll\\nno longer have a perfect initial market handed to you on a platter.\\nAmong companies, the best early adopters are usually other\\nstartups. They\\'re more open to new things both by nature and\\nbecause, having just been started, they haven\\'t made all their\\nchoices yet. Plus when they succeed they grow fast, and you with\\nthem. It was one of many unforeseen advantages of the YC\\nmodel (and specifically of making YC big) that B2B startups now\\nhave an instant market of hundreds of other startups ready at\\nhand.\\nMeraki\\nFor hardware startups there\\'s a variant of doing things that don\\'t\\nscale that we call \"pulling a Meraki.\" Although we didn\\'t fund\\nMeraki, the founders were Robert Morris\\'s grad students, so we\\nknow their history. They got started by doing something that\\nreally doesn\\'t scale: assembling their routers themselves.\\nHardware startups face an obstacle that software startups don\\'t.\\nThe minimum order for a factory production run is usually several\\nhundred thousand dollars. Which can put you in a catch-22:\\nwithout a product you can\\'t generate the growth you need to\\nraise the money to manufacture your product. Back when\\nhardware startups had to rely on investors for money, you had to\\nbe pretty convincing to overcome this. The arrival of\\ncrowdfunding (or more precisely, preorders) has helped a lot. But\\neven so I\\'d advise startups to pull a Meraki initially if they can.\\nThat\\'s what Pebble did. The Pebbles assembled the first several\\nhundred watches themselves. If they hadn\\'t gone through that\\nphase, they probably wouldn\\'t have sold $10 million worth of\\nwatches when they did go on Kickstarter.\\nLike paying excessive attention to early customers, fabricating\\nthings yourself turns out to be valuable for hardware startups.\\nYou can tweak the design faster when you\\'re the factory, and you\\nlearn things you\\'d never have known otherwise. Eric Migicovsky\\nof Pebble said one of the things he learned was \"how valuable it\\nwas to source good screws.\" Who knew?\\nConsult\\n8/6/24, 11:04 AM Do Things that Don\\'t Scale\\nhttps://paulgraham.com/ds.html 5/9'),\n",
       " Document(metadata={'source': '/home/dreca/dev/RAG-introduction/paul.pdf', 'page': 5}, page_content='Sometimes we advise founders of B2B startups to take over-\\nengagement to an extreme, and to pick a single user and act as if\\nthey were consultants building something just for that one user.\\nThe initial user serves as the form for your mold; keep tweaking\\ntill you fit their needs perfectly, and you\\'ll usually find you\\'ve\\nmade something other users want too. Even if there aren\\'t many\\nof them, there are probably adjacent territories that have more.\\nAs long as you can find just one user who really needs something\\nand can act on that need, you\\'ve got a toehold in making\\nsomething people want, and that\\'s as much as any startup needs\\ninitially. [9]\\nConsulting is the canonical example of work that doesn\\'t scale.\\nBut (like other ways of bestowing one\\'s favors liberally) it\\'s safe\\nto do it so long as you\\'re not being paid to. That\\'s where\\ncompanies cross the line. So long as you\\'re a product company\\nthat\\'s merely being extra attentive to a customer, they\\'re very\\ngrateful even if you don\\'t solve all their problems. But when they\\nstart paying you specifically for that attentiveness — when they\\nstart paying you by the hour — they expect you to do everything.\\nAnother consulting-like technique for recruiting initially lukewarm\\nusers is to use your software yourselves on their behalf. We did\\nthat at Viaweb. When we approached merchants asking if they\\nwanted to use our software to make online stores, some said no,\\nbut they\\'d let us make one for them. Since we would do anything\\nto get users, we did. We felt pretty lame at the time. Instead of\\norganizing big strategic e-commerce partnerships, we were trying\\nto sell luggage and pens and men\\'s shirts. But in retrospect it was\\nexactly the right thing to do, because it taught us how it would\\nfeel to merchants to use our software. Sometimes the feedback\\nloop was near instantaneous: in the middle of building some\\nmerchant\\'s site I\\'d find I needed a feature we didn\\'t have, so I\\'d\\nspend a couple hours implementing it and then resume building\\nthe site.\\nManual\\nThere\\'s a more extreme variant where you don\\'t just use your\\nsoftware, but are your software. When you only have a small\\nnumber of users, you can sometimes get away with doing by\\nhand things that you plan to automate later. This lets you launch\\nfaster, and when you do finally automate yourself out of the loop,\\nyou\\'ll know exactly what to build because you\\'ll have muscle\\nmemory from doing it yourself.\\nWhen manual components look to the user like software, this\\ntechnique starts to have aspects of a practical joke. For example,\\nthe way Stripe delivered \"instant\" merchant accounts to its first\\nusers was that the founders manually signed them up for\\ntraditional merchant accounts behind the scenes.\\nSome startups could be entirely manual at first. If you can find\\nsomeone with a problem that needs solving and you can solve it\\nmanually, go ahead and do that for as long as you can, and then\\ngradually automate the bottlenecks. It would be a little\\nfrightening to be solving users\\' problems in a way that wasn\\'t yet\\nautomatic, but less frightening than the far more common case of\\nhaving something automatic that doesn\\'t yet solve anyone\\'s\\nproblems.\\n8/6/24, 11:04 AM Do Things that Don\\'t Scale\\nhttps://paulgraham.com/ds.html 6/9'),\n",
       " Document(metadata={'source': '/home/dreca/dev/RAG-introduction/paul.pdf', 'page': 6}, page_content=\"Big\\nI should mention one sort of initial tactic that usually doesn't\\nwork: the Big Launch. I occasionally meet founders who seem to\\nbelieve startups are projectiles rather than powered aircraft, and\\nthat they'll make it big if and only if they're launched with\\nsufficient initial velocity. They want to launch simultaneously in 8\\ndifferent publications, with embargoes. And on a tuesday, of\\ncourse, since they read somewhere that's the optimum day to\\nlaunch something.\\nIt's easy to see how little launches matter. Think of some\\nsuccessful startups. How many of their launches do you\\nremember? All you need from a launch is some initial core of\\nusers. How well you're doing a few months later will depend more\\non how happy you made those users than how many there were\\nof them. [10]\\nSo why do founders think launches matter? A combination of\\nsolipsism and laziness. They think what they're building is so\\ngreat that everyone who hears about it will immediately sign up.\\nPlus it would be so much less work if you could get users merely\\nby broadcasting your existence, rather than recruiting them one\\nat a time. But even if what you're building really is great, getting\\nusers will always be a gradual process — partly because great\\nthings are usually also novel, but mainly because users have\\nother things to think about.\\nPartnerships too usually don't work. They don't work for startups\\nin general, but they especially don't work as a way to get growth\\nstarted. It's a common mistake among inexperienced founders to\\nbelieve that a partnership with a big company will be their big\\nbreak. Six months later they're all saying the same thing: that\\nwas way more work than we expected, and we ended up getting\\npractically nothing out of it. [11]\\nIt's not enough just to do something extraordinary initially. You\\nhave to make an extraordinary effort initially. Any strategy that\\nomits the effort — whether it's expecting a big launch to get you\\nusers, or a big partner — is ipso facto suspect.\\nVector\\nThe need to do something unscalably laborious to get started is\\nso nearly universal that it might be a good idea to stop thinking\\nof startup ideas as scalars. Instead we should try thinking of\\nthem as pairs of what you're going to build, plus the unscalable\\nthing(s) you're going to do initially to get the company going.\\nIt could be interesting to start viewing startup ideas this way,\\nbecause now that there are two components you can try to be\\nimaginative about the second as well as the first. But in most\\ncases the second component will be what it usually is — recruit\\nusers manually and give them an overwhelmingly good\\nexperience — and the main benefit of treating startups as vectors\\nwill be to remind founders they need to work hard in two\\ndimensions. [12]\\nIn the best case, both components of the vector contribute to\\nyour company's DNA: the unscalable things you have to do to get\\n8/6/24, 11:04 AM Do Things that Don't Scale\\nhttps://paulgraham.com/ds.html 7/9\"),\n",
       " Document(metadata={'source': '/home/dreca/dev/RAG-introduction/paul.pdf', 'page': 7}, page_content='started are not merely a necessary evil, but change the company\\npermanently for the better. If you have to be aggressive about\\nuser acquisition when you\\'re small, you\\'ll probably still be\\naggressive when you\\'re big. If you have to manufacture your own\\nhardware, or use your software on users\\'s behalf, you\\'ll learn\\nthings you couldn\\'t have learned otherwise. And most\\nimportantly, if you have to work hard to delight users when you\\nonly have a handful of them, you\\'ll keep doing it when you have a\\nlot.\\nNotes\\n[1] Actually Emerson never mentioned mousetraps specifically. He\\nwrote \"If a man has good corn or wood, or boards, or pigs, to\\nsell, or can make better chairs or knives, crucibles or church\\norgans, than anybody else, you will find a broad hard-beaten road\\nto his house, though it be in the woods.\"\\n[2] Thanks to Sam Altman for suggesting I make this explicit.\\nAnd no, you can\\'t avoid doing sales by hiring someone to do it for\\nyou. You have to do sales yourself initially. Later you can hire a\\nreal salesperson to replace you.\\n[3] The reason this works is that as you get bigger, your size\\nhelps you grow. Patrick Collison wrote \"At some point, there was\\na very noticeable change in how Stripe felt. It tipped from being\\nthis boulder we had to push to being a train car that in fact had\\nits own momentum.\"\\n[4] One of the more subtle ways in which YC can help founders is\\nby calibrating their ambitions, because we know exactly how a lot\\nof successful startups looked when they were just getting started.\\n[5] If you\\'re building something for which you can\\'t easily get a\\nsmall set of users to observe — e.g. enterprise software — and in\\na domain where you have no connections, you\\'ll have to rely on\\ncold calls and introductions. But should you even be working on\\nsuch an idea?\\n[6] Garry Tan pointed out an interesting trap founders fall into in\\nthe beginning. They want so much to seem big that they imitate\\neven the flaws of big companies, like indifference to individual\\nusers. This seems to them more \"professional.\" Actually it\\'s better\\nto embrace the fact that you\\'re small and use whatever\\nadvantages that brings.\\n[7] Your user model almost couldn\\'t be perfectly accurate,\\nbecause users\\' needs often change in response to what you build\\nfor them. Build them a microcomputer, and suddenly they need to\\nrun spreadsheets on it, because the arrival of your new\\nmicrocomputer causes someone to invent the spreadsheet.\\n[8] If you have to choose between the subset that will sign up\\nquickest and those that will pay the most, it\\'s usually best to pick\\nthe former, because those are probably the early adopters. They\\'ll\\n8/6/24, 11:04 AM Do Things that Don\\'t Scale\\nhttps://paulgraham.com/ds.html 8/9'),\n",
       " Document(metadata={'source': '/home/dreca/dev/RAG-introduction/paul.pdf', 'page': 8}, page_content=\"have a better influence on your product, and they won't make you\\nexpend as much effort on sales. And though they have less\\nmoney, you don't need that much to maintain your target growth\\nrate early on.\\n[9] Yes, I can imagine cases where you could end up making\\nsomething that was really only useful for one user. But those are\\nusually obvious, even to inexperienced founders. So if it's not\\nobvious you'd be making something for a market of one, don't\\nworry about that danger.\\n[10] There may even be an inverse correlation between launch\\nmagnitude and success. The only launches I remember are\\nfamous flops like the Segway and Google Wave. Wave is a\\nparticularly alarming example, because I think it was actually a\\ngreat idea that was killed partly by its overdone launch.\\n[11] Google grew big on the back of Yahoo, but that wasn't a\\npartnership. Yahoo was their customer.\\n[12] It will also remind founders that an idea where the second\\ncomponent is empty — an idea where there is nothing you can do\\nto get going, e.g. because you have no way to find users to\\nrecruit manually — is probably a bad idea, at least for those\\nfounders.\\nThanks to Sam Altman, Paul Buchheit, Patrick Collison, Kevin\\nHale, Steven Levy, Jessica Livingston, Geoff Ralston, and Garry\\nTan for reading drafts of this.\\nJapanese Translation\\n Russian Translation\\nFrench Translation\\n Arabic Translation\\nItalian Translation\\n Korean Translation\\n8/6/24, 11:04 AM Do Things that Don't Scale\\nhttps://paulgraham.com/ds.html 9/9\")]"
      ]
     },
     "execution_count": 26,
     "metadata": {},
     "output_type": "execute_result"
    }
   ],
   "source": [
    "docs = loader.load()\n",
    "docs"
   ]
  },
  {
   "cell_type": "code",
   "execution_count": 26,
   "metadata": {},
   "outputs": [
    {
     "data": {
      "text/plain": [
       "Document(metadata={'source': '/home/dreca/dev/RAG-introduction/paul.pdf', 'page': 0}, page_content=' Want to start a startup? Get funded by Y Combinator.\\nJuly 2013\\nOne of the most common types of advice we give at Y Combinator\\nis to do things that don\\'t scale. A lot of would-be founders believe\\nthat startups either take off or don\\'t. You build something, make\\nit available, and if you\\'ve made a better mousetrap, people beat a\\npath to your door as promised. Or they don\\'t, in which case the\\nmarket must not exist. [1]\\nActually startups take off because the founders make them take\\noff. There may be a handful that just grew by themselves, but\\nusually it takes some sort of push to get them going. A good\\nmetaphor would be the cranks that car engines had before they\\ngot electric starters. Once the engine was going, it would keep\\ngoing, but there was a separate and laborious process to get it\\ngoing.\\nRecruit\\nThe most common unscalable thing founders have to do at the\\nstart is to recruit users manually. Nearly all startups have to. You\\ncan\\'t wait for users to come to you. You have to go out and get\\nthem.\\nStripe is one of the most successful startups we\\'ve funded, and\\nthe problem they solved was an urgent one. If anyone could have\\nsat back and waited for users, it was Stripe. But in fact they\\'re\\nfamous within YC for aggressive early user acquisition.\\nStartups building things for other startups have a big pool of\\npotential users in the other companies we\\'ve funded, and none\\ntook better advantage of it than Stripe. At YC we use the term\\n\"Collison installation\" for the technique they invented. More\\ndiffident founders ask \"Will you try our beta?\" and if the answer is\\nyes, they say \"Great, we\\'ll send you a link.\" But the Collison\\nbrothers weren\\'t going to wait. When anyone agreed to try Stripe\\nthey\\'d say \"Right then, give me your laptop\" and set them up on\\nthe spot.\\nThere are two reasons founders resist going out and recruiting\\nusers individually. One is a combination of shyness and laziness.\\nThey\\'d rather sit at home writing code than go out and talk to a\\nbunch of strangers and probably be rejected by most of them.\\nBut for a startup to succeed, at least one founder (usually the\\nCEO) will have to spend a lot of time on sales and marketing. [2]\\nThe other reason founders ignore this path is that the absolute\\nnumbers seem so small at first. This can\\'t be how the big, famous\\nstartups got started, they think. The mistake they make is to\\nunderestimate the power of compound growth. We encourage\\nevery startup to measure their progress by weekly growth rate. If\\nyou have 100 users, you need to get 10 more next week to grow\\n8/6/24, 11:04 AM Do Things that Don\\'t Scale\\nhttps://paulgraham.com/ds.html 1/9')"
      ]
     },
     "execution_count": 26,
     "metadata": {},
     "output_type": "execute_result"
    }
   ],
   "source": [
    "docs[0]"
   ]
  },
  {
   "cell_type": "code",
   "execution_count": 22,
   "metadata": {},
   "outputs": [
    {
     "name": "stdout",
     "output_type": "stream",
     "text": [
      "[Document(metadata={'source': '/home/dreca/dev/RAG-introduction/paul.pdf', 'page': 0}, page_content=' Want to start a startup? Get funded by Y Combinator.\\nJuly 2013\\nOne of the most common types of advice we give at Y Combinator\\nis to do things that don\\'t scale. A lot of would-be founders believe\\nthat startups either take off or don\\'t. You build something, make\\nit available, and if you\\'ve made a better mousetrap, people beat a\\npath to your door as promised. Or they don\\'t, in which case the\\nmarket must not exist. [1]\\nActually startups take off because the founders make them take\\noff. There may be a handful that just grew by themselves, but\\nusually it takes some sort of push to get them going. A good\\nmetaphor would be the cranks that car engines had before they\\ngot electric starters. Once the engine was going, it would keep\\ngoing, but there was a separate and laborious process to get it\\ngoing.\\nRecruit\\nThe most common unscalable thing founders have to do at the\\nstart is to recruit users manually. Nearly all startups have to. You\\ncan\\'t wait for users to come to you. You have to go out and get\\nthem.\\nStripe is one of the most successful startups we\\'ve funded, and\\nthe problem they solved was an urgent one. If anyone could have\\nsat back and waited for users, it was Stripe. But in fact they\\'re\\nfamous within YC for aggressive early user acquisition.\\nStartups building things for other startups have a big pool of\\npotential users in the other companies we\\'ve funded, and none\\ntook better advantage of it than Stripe. At YC we use the term\\n\"Collison installation\" for the technique they invented. More\\ndiffident founders ask \"Will you try our beta?\" and if the answer is\\nyes, they say \"Great, we\\'ll send you a link.\" But the Collison\\nbrothers weren\\'t going to wait. When anyone agreed to try Stripe\\nthey\\'d say \"Right then, give me your laptop\" and set them up on\\nthe spot.\\nThere are two reasons founders resist going out and recruiting\\nusers individually. One is a combination of shyness and laziness.\\nThey\\'d rather sit at home writing code than go out and talk to a\\nbunch of strangers and probably be rejected by most of them.\\nBut for a startup to succeed, at least one founder (usually the\\nCEO) will have to spend a lot of time on sales and marketing. [2]\\nThe other reason founders ignore this path is that the absolute\\nnumbers seem so small at first. This can\\'t be how the big, famous\\nstartups got started, they think. The mistake they make is to\\nunderestimate the power of compound growth. We encourage\\nevery startup to measure their progress by weekly growth rate. If\\nyou have 100 users, you need to get 10 more next week to grow\\n8/6/24, 11:04 AM Do Things that Don\\'t Scale\\nhttps://paulgraham.com/ds.html 1/9'), Document(metadata={'source': '/home/dreca/dev/RAG-introduction/paul.pdf', 'page': 1}, page_content='10% a week. And while 110 may not seem much better than 100,\\nif you keep growing at 10% a week you\\'ll be surprised how big\\nthe numbers get. After a year you\\'ll have 14,000 users, and after\\n2 years you\\'ll have 2 million.\\nYou\\'ll be doing different things when you\\'re acquiring users a\\nthousand at a time, and growth has to slow down eventually. But\\nif the market exists you can usually start by recruiting users\\nmanually and then gradually switch to less manual methods. [3]\\nAirbnb is a classic example of this technique. Marketplaces are so\\nhard to get rolling that you should expect to take heroic measures\\nat first. In Airbnb\\'s case, these consisted of going door to door in\\nNew York, recruiting new users and helping existing ones improve\\ntheir listings. When I remember the Airbnbs during YC, I picture\\nthem with rolly bags, because when they showed up for tuesday\\ndinners they\\'d always just flown back from somewhere.\\nFragile\\nAirbnb now seems like an unstoppable juggernaut, but early on it\\nwas so fragile that about 30 days of going out and engaging in\\nperson with users made the difference between success and\\nfailure.\\nThat initial fragility was not a unique feature of Airbnb. Almost all\\nstartups are fragile initially. And that\\'s one of the biggest things\\ninexperienced founders and investors (and reporters and know-it-\\nalls on forums) get wrong about them. They unconsciously judge\\nlarval startups by the standards of established ones. They\\'re like\\nsomeone looking at a newborn baby and concluding \"there\\'s no\\nway this tiny creature could ever accomplish anything.\"\\nIt\\'s harmless if reporters and know-it-alls dismiss your startup.\\nThey always get things wrong. It\\'s even ok if investors dismiss\\nyour startup; they\\'ll change their minds when they see growth.\\nThe big danger is that you\\'ll dismiss your startup yourself. I\\'ve\\nseen it happen. I often have to encourage founders who don\\'t see\\nthe full potential of what they\\'re building. Even Bill Gates made\\nthat mistake. He returned to Harvard for the fall semester after\\nstarting Microsoft. He didn\\'t stay long, but he wouldn\\'t have\\nreturned at all if he\\'d realized Microsoft was going to be even a\\nfraction of the size it turned out to be. [4]\\nThe question to ask about an early stage startup is not \"is this\\ncompany taking over the world?\" but \"how big could this company\\nget if the founders did the right things?\" And the right things\\noften seem both laborious and inconsequential at the time.\\nMicrosoft can\\'t have seemed very impressive when it was just a\\ncouple guys in Albuquerque writing Basic interpreters for a\\nmarket of a few thousand hobbyists (as they were then called),\\nbut in retrospect that was the optimal path to dominating\\nmicrocomputer software. And I know Brian Chesky and Joe\\nGebbia didn\\'t feel like they were en route to the big time as they\\nwere taking \"professional\" photos of their first hosts\\' apartments.\\nThey were just trying to survive. But in retrospect that too was\\nthe optimal path to dominating a big market.\\nHow do you find users to recruit manually? If you build something\\nto solve your own problems, then you only have to find your\\npeers, which is usually straightforward. Otherwise you\\'ll have to\\n8/6/24, 11:04 AM Do Things that Don\\'t Scale\\nhttps://paulgraham.com/ds.html 2/9'), Document(metadata={'source': '/home/dreca/dev/RAG-introduction/paul.pdf', 'page': 2}, page_content=\"make a more deliberate effort to locate the most promising vein\\nof users. The usual way to do that is to get some initial set of\\nusers by doing a comparatively untargeted launch, and then to\\nobserve which kind seem most enthusiastic, and seek out more\\nlike them. For example, Ben Silbermann noticed that a lot of the\\nearliest Pinterest users were interested in design, so he went to a\\nconference of design bloggers to recruit users, and that worked\\nwell. [5]\\nDelight\\nYou should take extraordinary measures not just to acquire users,\\nbut also to make them happy. For as long as they could (which\\nturned out to be surprisingly long), Wufoo sent each new user a\\nhand-written thank you note. Your first users should feel that\\nsigning up with you was one of the best choices they ever made.\\nAnd you in turn should be racking your brains to think of new\\nways to delight them.\\nWhy do we have to teach startups this? Why is it counterintuitive\\nfor founders? Three reasons, I think.\\nOne is that a lot of startup founders are trained as engineers, and\\ncustomer service is not part of the training of engineers. You're\\nsupposed to build things that are robust and elegant, not be\\nslavishly attentive to individual users like some kind of\\nsalesperson. Ironically, part of the reason engineering is\\ntraditionally averse to handholding is that its traditions date from\\na time when engineers were less powerful — when they were only\\nin charge of their narrow domain of building things, rather than\\nrunning the whole show. You can be ornery when you're Scotty,\\nbut not when you're Kirk.\\nAnother reason founders don't focus enough on individual\\ncustomers is that they worry it won't scale. But when founders of\\nlarval startups worry about this, I point out that in their current\\nstate they have nothing to lose. Maybe if they go out of their way\\nto make existing users super happy, they'll one day have too\\nmany to do so much for. That would be a great problem to have.\\nSee if you can make it happen. And incidentally, when it does,\\nyou'll find that delighting customers scales better than you\\nexpected. Partly because you can usually find ways to make\\nanything scale more than you would have predicted, and partly\\nbecause delighting customers will by then have permeated your\\nculture.\\nI have never once seen a startup lured down a blind alley by\\ntrying too hard to make their initial users happy.\\nBut perhaps the biggest thing preventing founders from realizing\\nhow attentive they could be to their users is that they've never\\nexperienced such attention themselves. Their standards for\\ncustomer service have been set by the companies they've been\\ncustomers of, which are mostly big ones. Tim Cook doesn't send\\nyou a hand-written note after you buy a laptop. He can't. But you\\ncan. That's one advantage of being small: you can provide a level\\nof service no big company can. [6]\\nOnce you realize that existing conventions are not the upper\\nbound on user experience, it's interesting in a very pleasant way\\nto think about how far you could go to delight your users.\\n8/6/24, 11:04 AM Do Things that Don't Scale\\nhttps://paulgraham.com/ds.html 3/9\"), Document(metadata={'source': '/home/dreca/dev/RAG-introduction/paul.pdf', 'page': 3}, page_content='Experience\\nI was trying to think of a phrase to convey how extreme your\\nattention to users should be, and I realized Steve Jobs had\\nalready done it: insanely great. Steve wasn\\'t just using \"insanely\"\\nas a synonym for \"very.\" He meant it more literally — that one\\nshould focus on quality of execution to a degree that in everyday\\nlife would be considered pathological.\\nAll the most successful startups we\\'ve funded have, and that\\nprobably doesn\\'t surprise would-be founders. What novice\\nfounders don\\'t get is what insanely great translates to in a larval\\nstartup. When Steve Jobs started using that phrase, Apple was\\nalready an established company. He meant the Mac (and its\\ndocumentation and even packaging — such is the nature of\\nobsession) should be insanely well designed and manufactured.\\nThat\\'s not hard for engineers to grasp. It\\'s just a more extreme\\nversion of designing a robust and elegant product.\\nWhat founders have a hard time grasping (and Steve himself\\nmight have had a hard time grasping) is what insanely great\\nmorphs into as you roll the time slider back to the first couple\\nmonths of a startup\\'s life. It\\'s not the product that should be\\ninsanely great, but the experience of being your user. The product\\nis just one component of that. For a big company it\\'s necessarily\\nthe dominant one. But you can and should give users an insanely\\ngreat experience with an early, incomplete, buggy product, if you\\nmake up the difference with attentiveness.\\nCan, perhaps, but should? Yes. Over-engaging with early users is\\nnot just a permissible technique for getting growth rolling. For\\nmost successful startups it\\'s a necessary part of the feedback\\nloop that makes the product good. Making a better mousetrap is\\nnot an atomic operation. Even if you start the way most\\nsuccessful startups have, by building something you yourself\\nneed, the first thing you build is never quite right. And except in\\ndomains with big penalties for making mistakes, it\\'s often better\\nnot to aim for perfection initially. In software, especially, it usually\\nworks best to get something in front of users as soon as it has a\\nquantum of utility, and then see what they do with it.\\nPerfectionism is often an excuse for procrastination, and in any\\ncase your initial model of users is always inaccurate, even if\\nyou\\'re one of them. [7]\\nThe feedback you get from engaging directly with your earliest\\nusers will be the best you ever get. When you\\'re so big you have\\nto resort to focus groups, you\\'ll wish you could go over to your\\nusers\\' homes and offices and watch them use your stuff like you\\ndid when there were only a handful of them.\\nFire\\nSometimes the right unscalable trick is to focus on a deliberately\\nnarrow market. It\\'s like keeping a fire contained at first to get it\\nreally hot before adding more logs.\\nThat\\'s what Facebook did. At first it was just for Harvard\\nstudents. In that form it only had a potential market of a few\\nthousand people, but because they felt it was really for them, a\\ncritical mass of them signed up. After Facebook stopped being for\\n8/6/24, 11:04 AM Do Things that Don\\'t Scale\\nhttps://paulgraham.com/ds.html 4/9'), Document(metadata={'source': '/home/dreca/dev/RAG-introduction/paul.pdf', 'page': 4}, page_content='Harvard students, it remained for students at specific colleges for\\nquite a while. When I interviewed Mark Zuckerberg at Startup\\nSchool, he said that while it was a lot of work creating course lists\\nfor each school, doing that made students feel the site was their\\nnatural home.\\nAny startup that could be described as a marketplace usually has\\nto start in a subset of the market, but this can work for other\\nstartups as well. It\\'s always worth asking if there\\'s a subset of the\\nmarket in which you can get a critical mass of users quickly. [8]\\nMost startups that use the contained fire strategy do it\\nunconsciously. They build something for themselves and their\\nfriends, who happen to be the early adopters, and only realize\\nlater that they could offer it to a broader market. The strategy\\nworks just as well if you do it unconsciously. The biggest danger\\nof not being consciously aware of this pattern is for those who\\nnaively discard part of it. E.g. if you don\\'t build something for\\nyourself and your friends, or even if you do, but you come from\\nthe corporate world and your friends are not early adopters, you\\'ll\\nno longer have a perfect initial market handed to you on a platter.\\nAmong companies, the best early adopters are usually other\\nstartups. They\\'re more open to new things both by nature and\\nbecause, having just been started, they haven\\'t made all their\\nchoices yet. Plus when they succeed they grow fast, and you with\\nthem. It was one of many unforeseen advantages of the YC\\nmodel (and specifically of making YC big) that B2B startups now\\nhave an instant market of hundreds of other startups ready at\\nhand.\\nMeraki\\nFor hardware startups there\\'s a variant of doing things that don\\'t\\nscale that we call \"pulling a Meraki.\" Although we didn\\'t fund\\nMeraki, the founders were Robert Morris\\'s grad students, so we\\nknow their history. They got started by doing something that\\nreally doesn\\'t scale: assembling their routers themselves.\\nHardware startups face an obstacle that software startups don\\'t.\\nThe minimum order for a factory production run is usually several\\nhundred thousand dollars. Which can put you in a catch-22:\\nwithout a product you can\\'t generate the growth you need to\\nraise the money to manufacture your product. Back when\\nhardware startups had to rely on investors for money, you had to\\nbe pretty convincing to overcome this. The arrival of\\ncrowdfunding (or more precisely, preorders) has helped a lot. But\\neven so I\\'d advise startups to pull a Meraki initially if they can.\\nThat\\'s what Pebble did. The Pebbles assembled the first several\\nhundred watches themselves. If they hadn\\'t gone through that\\nphase, they probably wouldn\\'t have sold $10 million worth of\\nwatches when they did go on Kickstarter.\\nLike paying excessive attention to early customers, fabricating\\nthings yourself turns out to be valuable for hardware startups.\\nYou can tweak the design faster when you\\'re the factory, and you\\nlearn things you\\'d never have known otherwise. Eric Migicovsky\\nof Pebble said one of the things he learned was \"how valuable it\\nwas to source good screws.\" Who knew?\\nConsult\\n8/6/24, 11:04 AM Do Things that Don\\'t Scale\\nhttps://paulgraham.com/ds.html 5/9'), Document(metadata={'source': '/home/dreca/dev/RAG-introduction/paul.pdf', 'page': 5}, page_content='Sometimes we advise founders of B2B startups to take over-\\nengagement to an extreme, and to pick a single user and act as if\\nthey were consultants building something just for that one user.\\nThe initial user serves as the form for your mold; keep tweaking\\ntill you fit their needs perfectly, and you\\'ll usually find you\\'ve\\nmade something other users want too. Even if there aren\\'t many\\nof them, there are probably adjacent territories that have more.\\nAs long as you can find just one user who really needs something\\nand can act on that need, you\\'ve got a toehold in making\\nsomething people want, and that\\'s as much as any startup needs\\ninitially. [9]\\nConsulting is the canonical example of work that doesn\\'t scale.\\nBut (like other ways of bestowing one\\'s favors liberally) it\\'s safe\\nto do it so long as you\\'re not being paid to. That\\'s where\\ncompanies cross the line. So long as you\\'re a product company\\nthat\\'s merely being extra attentive to a customer, they\\'re very\\ngrateful even if you don\\'t solve all their problems. But when they\\nstart paying you specifically for that attentiveness — when they\\nstart paying you by the hour — they expect you to do everything.\\nAnother consulting-like technique for recruiting initially lukewarm\\nusers is to use your software yourselves on their behalf. We did\\nthat at Viaweb. When we approached merchants asking if they\\nwanted to use our software to make online stores, some said no,\\nbut they\\'d let us make one for them. Since we would do anything\\nto get users, we did. We felt pretty lame at the time. Instead of\\norganizing big strategic e-commerce partnerships, we were trying\\nto sell luggage and pens and men\\'s shirts. But in retrospect it was\\nexactly the right thing to do, because it taught us how it would\\nfeel to merchants to use our software. Sometimes the feedback\\nloop was near instantaneous: in the middle of building some\\nmerchant\\'s site I\\'d find I needed a feature we didn\\'t have, so I\\'d\\nspend a couple hours implementing it and then resume building\\nthe site.\\nManual\\nThere\\'s a more extreme variant where you don\\'t just use your\\nsoftware, but are your software. When you only have a small\\nnumber of users, you can sometimes get away with doing by\\nhand things that you plan to automate later. This lets you launch\\nfaster, and when you do finally automate yourself out of the loop,\\nyou\\'ll know exactly what to build because you\\'ll have muscle\\nmemory from doing it yourself.\\nWhen manual components look to the user like software, this\\ntechnique starts to have aspects of a practical joke. For example,\\nthe way Stripe delivered \"instant\" merchant accounts to its first\\nusers was that the founders manually signed them up for\\ntraditional merchant accounts behind the scenes.\\nSome startups could be entirely manual at first. If you can find\\nsomeone with a problem that needs solving and you can solve it\\nmanually, go ahead and do that for as long as you can, and then\\ngradually automate the bottlenecks. It would be a little\\nfrightening to be solving users\\' problems in a way that wasn\\'t yet\\nautomatic, but less frightening than the far more common case of\\nhaving something automatic that doesn\\'t yet solve anyone\\'s\\nproblems.\\n8/6/24, 11:04 AM Do Things that Don\\'t Scale\\nhttps://paulgraham.com/ds.html 6/9'), Document(metadata={'source': '/home/dreca/dev/RAG-introduction/paul.pdf', 'page': 6}, page_content=\"Big\\nI should mention one sort of initial tactic that usually doesn't\\nwork: the Big Launch. I occasionally meet founders who seem to\\nbelieve startups are projectiles rather than powered aircraft, and\\nthat they'll make it big if and only if they're launched with\\nsufficient initial velocity. They want to launch simultaneously in 8\\ndifferent publications, with embargoes. And on a tuesday, of\\ncourse, since they read somewhere that's the optimum day to\\nlaunch something.\\nIt's easy to see how little launches matter. Think of some\\nsuccessful startups. How many of their launches do you\\nremember? All you need from a launch is some initial core of\\nusers. How well you're doing a few months later will depend more\\non how happy you made those users than how many there were\\nof them. [10]\\nSo why do founders think launches matter? A combination of\\nsolipsism and laziness. They think what they're building is so\\ngreat that everyone who hears about it will immediately sign up.\\nPlus it would be so much less work if you could get users merely\\nby broadcasting your existence, rather than recruiting them one\\nat a time. But even if what you're building really is great, getting\\nusers will always be a gradual process — partly because great\\nthings are usually also novel, but mainly because users have\\nother things to think about.\\nPartnerships too usually don't work. They don't work for startups\\nin general, but they especially don't work as a way to get growth\\nstarted. It's a common mistake among inexperienced founders to\\nbelieve that a partnership with a big company will be their big\\nbreak. Six months later they're all saying the same thing: that\\nwas way more work than we expected, and we ended up getting\\npractically nothing out of it. [11]\\nIt's not enough just to do something extraordinary initially. You\\nhave to make an extraordinary effort initially. Any strategy that\\nomits the effort — whether it's expecting a big launch to get you\\nusers, or a big partner — is ipso facto suspect.\\nVector\\nThe need to do something unscalably laborious to get started is\\nso nearly universal that it might be a good idea to stop thinking\\nof startup ideas as scalars. Instead we should try thinking of\\nthem as pairs of what you're going to build, plus the unscalable\\nthing(s) you're going to do initially to get the company going.\\nIt could be interesting to start viewing startup ideas this way,\\nbecause now that there are two components you can try to be\\nimaginative about the second as well as the first. But in most\\ncases the second component will be what it usually is — recruit\\nusers manually and give them an overwhelmingly good\\nexperience — and the main benefit of treating startups as vectors\\nwill be to remind founders they need to work hard in two\\ndimensions. [12]\\nIn the best case, both components of the vector contribute to\\nyour company's DNA: the unscalable things you have to do to get\\n8/6/24, 11:04 AM Do Things that Don't Scale\\nhttps://paulgraham.com/ds.html 7/9\"), Document(metadata={'source': '/home/dreca/dev/RAG-introduction/paul.pdf', 'page': 7}, page_content='started are not merely a necessary evil, but change the company\\npermanently for the better. If you have to be aggressive about\\nuser acquisition when you\\'re small, you\\'ll probably still be\\naggressive when you\\'re big. If you have to manufacture your own\\nhardware, or use your software on users\\'s behalf, you\\'ll learn\\nthings you couldn\\'t have learned otherwise. And most\\nimportantly, if you have to work hard to delight users when you\\nonly have a handful of them, you\\'ll keep doing it when you have a\\nlot.\\nNotes\\n[1] Actually Emerson never mentioned mousetraps specifically. He\\nwrote \"If a man has good corn or wood, or boards, or pigs, to\\nsell, or can make better chairs or knives, crucibles or church\\norgans, than anybody else, you will find a broad hard-beaten road\\nto his house, though it be in the woods.\"\\n[2] Thanks to Sam Altman for suggesting I make this explicit.\\nAnd no, you can\\'t avoid doing sales by hiring someone to do it for\\nyou. You have to do sales yourself initially. Later you can hire a\\nreal salesperson to replace you.\\n[3] The reason this works is that as you get bigger, your size\\nhelps you grow. Patrick Collison wrote \"At some point, there was\\na very noticeable change in how Stripe felt. It tipped from being\\nthis boulder we had to push to being a train car that in fact had\\nits own momentum.\"\\n[4] One of the more subtle ways in which YC can help founders is\\nby calibrating their ambitions, because we know exactly how a lot\\nof successful startups looked when they were just getting started.\\n[5] If you\\'re building something for which you can\\'t easily get a\\nsmall set of users to observe — e.g. enterprise software — and in\\na domain where you have no connections, you\\'ll have to rely on\\ncold calls and introductions. But should you even be working on\\nsuch an idea?\\n[6] Garry Tan pointed out an interesting trap founders fall into in\\nthe beginning. They want so much to seem big that they imitate\\neven the flaws of big companies, like indifference to individual\\nusers. This seems to them more \"professional.\" Actually it\\'s better\\nto embrace the fact that you\\'re small and use whatever\\nadvantages that brings.\\n[7] Your user model almost couldn\\'t be perfectly accurate,\\nbecause users\\' needs often change in response to what you build\\nfor them. Build them a microcomputer, and suddenly they need to\\nrun spreadsheets on it, because the arrival of your new\\nmicrocomputer causes someone to invent the spreadsheet.\\n[8] If you have to choose between the subset that will sign up\\nquickest and those that will pay the most, it\\'s usually best to pick\\nthe former, because those are probably the early adopters. They\\'ll\\n8/6/24, 11:04 AM Do Things that Don\\'t Scale\\nhttps://paulgraham.com/ds.html 8/9'), Document(metadata={'source': '/home/dreca/dev/RAG-introduction/paul.pdf', 'page': 8}, page_content=\"have a better influence on your product, and they won't make you\\nexpend as much effort on sales. And though they have less\\nmoney, you don't need that much to maintain your target growth\\nrate early on.\\n[9] Yes, I can imagine cases where you could end up making\\nsomething that was really only useful for one user. But those are\\nusually obvious, even to inexperienced founders. So if it's not\\nobvious you'd be making something for a market of one, don't\\nworry about that danger.\\n[10] There may even be an inverse correlation between launch\\nmagnitude and success. The only launches I remember are\\nfamous flops like the Segway and Google Wave. Wave is a\\nparticularly alarming example, because I think it was actually a\\ngreat idea that was killed partly by its overdone launch.\\n[11] Google grew big on the back of Yahoo, but that wasn't a\\npartnership. Yahoo was their customer.\\n[12] It will also remind founders that an idea where the second\\ncomponent is empty — an idea where there is nothing you can do\\nto get going, e.g. because you have no way to find users to\\nrecruit manually — is probably a bad idea, at least for those\\nfounders.\\nThanks to Sam Altman, Paul Buchheit, Patrick Collison, Kevin\\nHale, Steven Levy, Jessica Livingston, Geoff Ralston, and Garry\\nTan for reading drafts of this.\\nJapanese Translation\\n Russian Translation\\nFrench Translation\\n Arabic Translation\\nItalian Translation\\n Korean Translation\\n8/6/24, 11:04 AM Do Things that Don't Scale\\nhttps://paulgraham.com/ds.html 9/9\")]\n",
      "\n",
      "page_content=' Want to start a startup? Get funded by Y Combinator.\n",
      "July 2013\n",
      "One of the most common types of advice we give at Y Combinator\n",
      "is to do things that don't scale. A lot of would-be founders believe\n",
      "that startups either take off or don't. You build something, make\n",
      "it available, and if you've made a better mousetrap, people beat a\n",
      "path to your door as promised. Or they don't, in which case the\n",
      "market must not exist. [1]\n",
      "Actually startups take off because the founders make them take\n",
      "off. There may be a handful that just grew by themselves, but\n",
      "usually it takes some sort of push to get them going. A good\n",
      "metaphor would be the cranks that car engines had before they\n",
      "got electric starters. Once the engine was going, it would keep\n",
      "going, but there was a separate and laborious process to get it\n",
      "going.\n",
      "Recruit\n",
      "The most common unscalable thing founders have to do at the\n",
      "start is to recruit users manually. Nearly all startups have to. You\n",
      "can't wait for users to come to you. You have to go out and get\n",
      "them.\n",
      "Stripe is one of the most successful startups we've funded, and\n",
      "the problem they solved was an urgent one. If anyone could have\n",
      "sat back and waited for users, it was Stripe. But in fact they're\n",
      "famous within YC for aggressive early user acquisition.\n",
      "Startups building things for other startups have a big pool of\n",
      "potential users in the other companies we've funded, and none\n",
      "took better advantage of it than Stripe. At YC we use the term\n",
      "\"Collison installation\" for the technique they invented. More\n",
      "diffident founders ask \"Will you try our beta?\" and if the answer is\n",
      "yes, they say \"Great, we'll send you a link.\" But the Collison\n",
      "brothers weren't going to wait. When anyone agreed to try Stripe\n",
      "they'd say \"Right then, give me your laptop\" and set them up on\n",
      "the spot.\n",
      "There are two reasons founders resist going out and recruiting\n",
      "users individually. One is a combination of shyness and laziness.\n",
      "They'd rather sit at home writing code than go out and talk to a\n",
      "bunch of strangers and probably be rejected by most of them.\n",
      "But for a startup to succeed, at least one founder (usually the\n",
      "CEO) will have to spend a lot of time on sales and marketing. [2]\n",
      "The other reason founders ignore this path is that the absolute\n",
      "numbers seem so small at first. This can't be how the big, famous\n",
      "startups got started, they think. The mistake they make is to\n",
      "underestimate the power of compound growth. We encourage\n",
      "every startup to measure their progress by weekly growth rate. If\n",
      "you have 100 users, you need to get 10 more next week to grow\n",
      "8/6/24, 11:04 AM Do Things that Don't Scale\n",
      "https://paulgraham.com/ds.html 1/9' metadata={'source': '/home/dreca/dev/RAG-introduction/paul.pdf', 'page': 0}\n",
      "\n",
      "{'source': '/home/dreca/dev/RAG-introduction/paul.pdf', 'page': 0}\n"
     ]
    }
   ],
   "source": [
    "# Print Verifications\n",
    "print(docs)\n",
    "print()\n",
    "print(docs[0])\n",
    "print()\n",
    "print(docs[0].metadata)"
   ]
  },
  {
   "cell_type": "code",
   "execution_count": 4,
   "metadata": {},
   "outputs": [],
   "source": [
    "pages = []\n",
    "for doc in loader.lazy_load():\n",
    "    pages.append(doc)"
   ]
  },
  {
   "cell_type": "code",
   "execution_count": 5,
   "metadata": {},
   "outputs": [
    {
     "name": "stdout",
     "output_type": "stream",
     "text": [
      "9\n",
      "\n",
      " Want to start a startup? Get funded by Y Combinator.\n",
      "July 2013\n",
      "One of the most common types of advi\n",
      "\n",
      "{'source': '/home/dreca/dev/RAG-introduction/paul.pdf', 'page': 0}\n"
     ]
    }
   ],
   "source": [
    "print(len(pages))\n",
    "print()\n",
    "print(pages[0].page_content[:100])\n",
    "print()\n",
    "print(pages[0].metadata)"
   ]
  },
  {
   "cell_type": "markdown",
   "metadata": {},
   "source": [
    "#"
   ]
  },
  {
   "cell_type": "markdown",
   "metadata": {},
   "source": [
    "# Text Splitter"
   ]
  },
  {
   "cell_type": "markdown",
   "metadata": {},
   "source": [
    "This text splitter is the recommended one for generic text. It is parameterized by a list of characters. It tries to split on them in order until the chunks are small enough. The default list is [\"\\n\\n\", \"\\n\", \" \", \"\"]. This has the effect of trying to keep all paragraphs (and then sentences, and then words) together as long as possible, as those would generically seem to be the strongest semantically related pieces of text."
   ]
  },
  {
   "cell_type": "code",
   "execution_count": 2,
   "metadata": {},
   "outputs": [],
   "source": [
    "from langchain_text_splitters import RecursiveCharacterTextSplitter"
   ]
  },
  {
   "cell_type": "code",
   "execution_count": 3,
   "metadata": {},
   "outputs": [],
   "source": [
    "text_splitter = RecursiveCharacterTextSplitter(\n",
    "    chunk_size=1000,\n",
    "    chunk_overlap=100,\n",
    "    length_function=len,\n",
    "    is_separator_regex=False,\n",
    ")"
   ]
  },
  {
   "cell_type": "code",
   "execution_count": 35,
   "metadata": {},
   "outputs": [],
   "source": [
    "pages = loader.load() # load  all pages again\n",
    "chunks = text_splitter.split_documents(pages)\n"
   ]
  },
  {
   "cell_type": "code",
   "execution_count": null,
   "metadata": {},
   "outputs": [
    {
     "name": "stdout",
     "output_type": "stream",
     "text": [
      "page_content='Want to start a startup? Get funded by Y Combinator.\n",
      "July 2013\n",
      "One of the most common types of advice we give at Y Combinator\n",
      "is to do things that don't scale. A lot of would-be founders believe\n",
      "that startups either take off or don't. You build something, make\n",
      "it available, and if you've made a better mousetrap, people beat a\n",
      "path to your door as promised. Or they don't, in which case the\n",
      "market must not exist. [1]\n",
      "Actually startups take off because the founders make them take\n",
      "off. There may be a handful that just grew by themselves, but\n",
      "usually it takes some sort of push to get them going. A good\n",
      "metaphor would be the cranks that car engines had before they\n",
      "got electric starters. Once the engine was going, it would keep\n",
      "going, but there was a separate and laborious process to get it\n",
      "going.\n",
      "Recruit\n",
      "The most common unscalable thing founders have to do at the\n",
      "start is to recruit users manually. Nearly all startups have to. You' metadata={'source': '/home/dreca/dev/RAG-introduction/paul.pdf', 'page': 0}\n",
      "****************************************************************************************************\n",
      "page_content='start is to recruit users manually. Nearly all startups have to. You\n",
      "can't wait for users to come to you. You have to go out and get\n",
      "them.\n",
      "Stripe is one of the most successful startups we've funded, and\n",
      "the problem they solved was an urgent one. If anyone could have\n",
      "sat back and waited for users, it was Stripe. But in fact they're\n",
      "famous within YC for aggressive early user acquisition.\n",
      "Startups building things for other startups have a big pool of\n",
      "potential users in the other companies we've funded, and none\n",
      "took better advantage of it than Stripe. At YC we use the term\n",
      "\"Collison installation\" for the technique they invented. More\n",
      "diffident founders ask \"Will you try our beta?\" and if the answer is\n",
      "yes, they say \"Great, we'll send you a link.\" But the Collison\n",
      "brothers weren't going to wait. When anyone agreed to try Stripe\n",
      "they'd say \"Right then, give me your laptop\" and set them up on\n",
      "the spot.\n",
      "There are two reasons founders resist going out and recruiting' metadata={'source': '/home/dreca/dev/RAG-introduction/paul.pdf', 'page': 0}\n",
      "****************************************************************************************************\n",
      "page_content='the spot.\n",
      "There are two reasons founders resist going out and recruiting\n",
      "users individually. One is a combination of shyness and laziness.\n",
      "They'd rather sit at home writing code than go out and talk to a\n",
      "bunch of strangers and probably be rejected by most of them.\n",
      "But for a startup to succeed, at least one founder (usually the\n",
      "CEO) will have to spend a lot of time on sales and marketing. [2]\n",
      "The other reason founders ignore this path is that the absolute\n",
      "numbers seem so small at first. This can't be how the big, famous\n",
      "startups got started, they think. The mistake they make is to\n",
      "underestimate the power of compound growth. We encourage\n",
      "every startup to measure their progress by weekly growth rate. If\n",
      "you have 100 users, you need to get 10 more next week to grow\n",
      "8/6/24, 11:04 AM Do Things that Don't Scale\n",
      "https://paulgraham.com/ds.html 1/9' metadata={'source': '/home/dreca/dev/RAG-introduction/paul.pdf', 'page': 0}\n",
      "****************************************************************************************************\n",
      "page_content='10% a week. And while 110 may not seem much better than 100,\n",
      "if you keep growing at 10% a week you'll be surprised how big\n",
      "the numbers get. After a year you'll have 14,000 users, and after\n",
      "2 years you'll have 2 million.\n",
      "You'll be doing different things when you're acquiring users a\n",
      "thousand at a time, and growth has to slow down eventually. But\n",
      "if the market exists you can usually start by recruiting users\n",
      "manually and then gradually switch to less manual methods. [3]\n",
      "Airbnb is a classic example of this technique. Marketplaces are so\n",
      "hard to get rolling that you should expect to take heroic measures\n",
      "at first. In Airbnb's case, these consisted of going door to door in\n",
      "New York, recruiting new users and helping existing ones improve\n",
      "their listings. When I remember the Airbnbs during YC, I picture\n",
      "them with rolly bags, because when they showed up for tuesday\n",
      "dinners they'd always just flown back from somewhere.\n",
      "Fragile\n",
      "Airbnb now seems like an unstoppable juggernaut, but early on it' metadata={'source': '/home/dreca/dev/RAG-introduction/paul.pdf', 'page': 1}\n",
      "****************************************************************************************************\n"
     ]
    }
   ],
   "source": [
    "for i in range(4):\n",
    "    print(chunks[i])\n",
    "    print('*'*100)\n"
   ]
  },
  {
   "cell_type": "markdown",
   "metadata": {},
   "source": [
    "# Docling Loader"
   ]
  },
  {
   "cell_type": "code",
   "execution_count": 27,
   "metadata": {},
   "outputs": [
    {
     "data": {
      "application/vnd.jupyter.widget-view+json": {
       "model_id": "4de0f991a021453fafa16d9c7ed1fb5f",
       "version_major": 2,
       "version_minor": 0
      },
      "text/plain": [
       "Fetching 9 files:   0%|          | 0/9 [00:00<?, ?it/s]"
      ]
     },
     "metadata": {},
     "output_type": "display_data"
    },
    {
     "data": {
      "application/vnd.jupyter.widget-view+json": {
       "model_id": "f2bbefe7aa22444285bd7107118ec447",
       "version_major": 2,
       "version_minor": 0
      },
      "text/plain": [
       ".gitattributes:   0%|          | 0.00/1.71k [00:00<?, ?B/s]"
      ]
     },
     "metadata": {},
     "output_type": "display_data"
    },
    {
     "data": {
      "application/vnd.jupyter.widget-view+json": {
       "model_id": "a7d848625d1b43a1b0c96d551b7bb70c",
       "version_major": 2,
       "version_minor": 0
      },
      "text/plain": [
       "config.json:   0%|          | 0.00/41.0 [00:00<?, ?B/s]"
      ]
     },
     "metadata": {},
     "output_type": "display_data"
    },
    {
     "data": {
      "application/vnd.jupyter.widget-view+json": {
       "model_id": "95673ecc4e3443d5bc443fcaaaa53282",
       "version_major": 2,
       "version_minor": 0
      },
      "text/plain": [
       ".gitignore:   0%|          | 0.00/5.18k [00:00<?, ?B/s]"
      ]
     },
     "metadata": {},
     "output_type": "display_data"
    },
    {
     "data": {
      "application/vnd.jupyter.widget-view+json": {
       "model_id": "353670e767d2427c9f59579b676e7aba",
       "version_major": 2,
       "version_minor": 0
      },
      "text/plain": [
       "README.md:   0%|          | 0.00/3.49k [00:00<?, ?B/s]"
      ]
     },
     "metadata": {},
     "output_type": "display_data"
    },
    {
     "data": {
      "application/vnd.jupyter.widget-view+json": {
       "model_id": "dbc78b9f198c42a786bc0b67b926d012",
       "version_major": 2,
       "version_minor": 0
      },
      "text/plain": [
       "otslp_all_fast.check:   0%|          | 0.00/146M [00:00<?, ?B/s]"
      ]
     },
     "metadata": {},
     "output_type": "display_data"
    },
    {
     "data": {
      "application/vnd.jupyter.widget-view+json": {
       "model_id": "bb812ce60681459bb460ea6263ca5b8e",
       "version_major": 2,
       "version_minor": 0
      },
      "text/plain": [
       "otslp_all_standard_094_clean.check:   0%|          | 0.00/213M [00:00<?, ?B/s]"
      ]
     },
     "metadata": {},
     "output_type": "display_data"
    },
    {
     "data": {
      "application/vnd.jupyter.widget-view+json": {
       "model_id": "5170e5582ad64b1a99d724282e4cdd1f",
       "version_major": 2,
       "version_minor": 0
      },
      "text/plain": [
       "(…)artifacts/tableformer/fat/tm_config.json:   0%|          | 0.00/7.09k [00:00<?, ?B/s]"
      ]
     },
     "metadata": {},
     "output_type": "display_data"
    },
    {
     "data": {
      "application/vnd.jupyter.widget-view+json": {
       "model_id": "2d1bddec0c2442dcab38142bad44440f",
       "version_major": 2,
       "version_minor": 0
      },
      "text/plain": [
       "model.pt:   0%|          | 0.00/202M [00:00<?, ?B/s]"
      ]
     },
     "metadata": {},
     "output_type": "display_data"
    },
    {
     "data": {
      "application/vnd.jupyter.widget-view+json": {
       "model_id": "f9c85bda23604fc0be178b2a1fb7a96f",
       "version_major": 2,
       "version_minor": 0
      },
      "text/plain": [
       "(…)del_artifacts/tableformer/tm_config.json:   0%|          | 0.00/7.09k [00:00<?, ?B/s]"
      ]
     },
     "metadata": {},
     "output_type": "display_data"
    },
    {
     "name": "stderr",
     "output_type": "stream",
     "text": [
      "Downloading detection model, please wait. This may take several minutes depending upon your network connection.\n"
     ]
    },
    {
     "name": "stdout",
     "output_type": "stream",
     "text": [
      "Progress: |██████████████████████████████████████████████████| 100.0% Complete"
     ]
    },
    {
     "name": "stderr",
     "output_type": "stream",
     "text": [
      "Downloading recognition model, please wait. This may take several minutes depending upon your network connection.\n"
     ]
    },
    {
     "name": "stdout",
     "output_type": "stream",
     "text": [
      "Progress: |██████████████████████████████████████████████████| 100.0% Complete<!-- image -->\n",
      "\n",
      "## Want to start a startup? Get funded by Y Combinator .\n",
      "\n",
      "## July 2013\n",
      "\n",
      "One of the most common types of advice we give at Y Combinator is to do things that don't scale. A lot of would-be founders believe that startups either take off or don't. You build something, make it available, and if you've made a better mousetrap, people beat a path to your door as promised. Or they don't, in which case the market must not exist. [1]\n",
      "\n",
      "Actually startups take off because the founders make them take off. There may be a handful that just grew by themselves, but usually it takes some sort of push to get them going. A good metaphor would be the cranks that car engines had before they got electric starters. Once the engine was going, it would keep going, but there was a separate and laborious process to get it going.\n",
      "\n",
      "## Recruit\n",
      "\n",
      "The most common unscalable thing founders have to do at the start is to recruit users manually. Nearly all startups have to. You can't wait for users to come to you. You have to go out and get them.\n",
      "\n",
      "Stripe is one of the most successful startups we've funded, and the problem they solved was an urgent one. If anyone could have sat back and waited for users, it was Stripe. But in fact they're famous within YC for aggressive early user acquisition.\n",
      "\n",
      "Startups building things for other startups have a big pool of potential users in the other companies we've funded, and none took better advantage of it than Stripe. At YC we use the term \"Collison installation\" for the technique they invented. More diffident founders ask \"Will you try our beta?\" and if the answer is yes, they say \"Great, we'll send you a link.\" But the Collison brothers weren't going to wait. When anyone agreed to try Stripe they'd say \"Right then, give me your laptop\" and set them up on the spot.\n",
      "\n",
      "There are two reasons founders resist going out and recruiting users individually. One is a combination of shyness and laziness. They'd rather sit at home writing code than go out and talk to a bunch of strangers and probably be rejected by most of them. But for a startup to succeed, at least one founder (usually the CEO) will have to spend a lot of time on sales and marketing. [2]\n",
      "\n",
      "The other reason founders ignore this path is that the absolute numbers seem so small at first. This can't be how the big, famous startups got started, they think. The mistake they make is to underestimate the power of compound growth. We encourage every startup to measure their progress by weekly growth rate . If you have 100 users, you need to get 10 more next week to grow\n",
      "\n",
      "10% a week. And while 110 may not seem much better than 100, if you keep growing at 10% a week you'll be surprised how big the numbers get. After a year you'll have 14,000 users, and after 2 years you'll have 2 million.\n",
      "\n",
      "You'll be doing different things when you're acquiring users a thousand at a time, and growth has to slow down eventually. But if the market exists you can usually start by recruiting users manually and then gradually switch to less manual methods. [3]\n",
      "\n",
      "Airbnb is a classic example of this technique. Marketplaces are so hard to get rolling that you should expect to take heroic measures at first. In Airbnb's case, these consisted of going door to door in New York, recruiting new users and helping existing ones improve their listings. When I remember the Airbnbs during YC, I picture them with rolly bags, because when they showed up for tuesday dinners they'd always just flown back from somewhere.\n",
      "\n",
      "## Fragile\n",
      "\n",
      "Airbnb now seems like an unstoppable juggernaut, but early on it was so fragile that about 30 days of going out and engaging in person with users made the difference between success and failure.\n",
      "\n",
      "That initial fragility was not a unique feature of Airbnb. Almost all startups are fragile initially. And that's one of the biggest things inexperienced founders and investors (and reporters and know-italls on forums) get wrong about them. They unconsciously judge larval startups by the standards of established ones. They're like someone looking at a newborn baby and concluding \"there's no way this tiny creature could ever accomplish anything.\"\n",
      "\n",
      "It's harmless if reporters and know-it-alls dismiss your startup. They always get things wrong. It's even ok if investors dismiss your startup; they'll change their minds when they see growth. The big danger is that you'll dismiss your startup yourself. I've seen it happen. I often have to encourage founders who don't see the full potential of what they're building. Even Bill Gates made that mistake. He returned to Harvard for the fall semester after starting Microsoft. He didn't stay long, but he wouldn't have returned at all if he'd realized Microsoft was going to be even a fraction of the size it turned out to be. [4]\n",
      "\n",
      "The question to ask about an early stage startup is not \"is this company taking over the world?\" but \"how big could this company get if the founders did the right things?\" And the right things often seem both laborious and inconsequential at the time. Microsoft can't have seemed very impressive when it was just a couple guys in Albuquerque writing Basic interpreters for a market of a few thousand hobbyists (as they were then called), but in retrospect that was the optimal path to dominating microcomputer software. And I know Brian Chesky and Joe Gebbia didn't feel like they were en route to the big time as they were taking \"professional\" photos of their first hosts' apartments. They were just trying to survive. But in retrospect that too was the optimal path to dominating a big market.\n",
      "\n",
      "How do you find users to recruit manually? If you build something to solve your own problems , then you only have to find your peers, which is usually straightforward. Otherwise you'll have to\n",
      "\n",
      "make a more deliberate effort to locate the most promising vein of users. The usual way to do that is to get some initial set of users by doing a comparatively untargeted launch, and then to observe which kind seem most enthusiastic, and seek out more like them. For example, Ben Silbermann noticed that a lot of the earliest Pinterest users were interested in design, so he went to a conference of design bloggers to recruit users, and that worked well. [5]\n",
      "\n",
      "## Delight\n",
      "\n",
      "You should take extraordinary measures not just to acquire users, but also to make them happy. For as long as they could (which turned out to be surprisingly long), Wufoo sent each new user a hand-written thank you note. Your first users should feel that signing up with you was one of the best choices they ever made. And you in turn should be racking your brains to think of new ways to delight them.\n",
      "\n",
      "Why do we have to teach startups this? Why is it counterintuitive for founders? Three reasons, I think.\n",
      "\n",
      "One is that a lot of startup founders are trained as engineers, and customer service is not part of the training of engineers. You're supposed to build things that are robust and elegant, not be slavishly attentive to individual users like some kind of salesperson. Ironically, part of the reason engineering is traditionally averse to handholding is that its traditions date from a time when engineers were less powerful - when they were only in charge of their narrow domain of building things, rather than running the whole show. You can be ornery when you're Scotty, but not when you're Kirk.\n",
      "\n",
      "Another reason founders don't focus enough on individual customers is that they worry it won't scale. But when founders of larval startups worry about this, I point out that in their current state they have nothing to lose. Maybe if they go out of their way to make existing users super happy, they'll one day have too many to do so much for. That would be a great problem to have. See if you can make it happen. And incidentally, when it does, you'll find that delighting customers scales better than you expected. Partly because you can usually find ways to make anything scale more than you would have predicted, and partly because delighting customers will by then have permeated your culture.\n",
      "\n",
      "I have never once seen a startup lured down a blind alley by trying too hard to make their initial users happy.\n",
      "\n",
      "But perhaps the biggest thing preventing founders from realizing how attentive they could be to their users is that they've never experienced such attention themselves. Their standards for customer service have been set by the companies they've been customers of, which are mostly big ones. Tim Cook doesn't send you a hand-written note after you buy a laptop. He can't. But you can. That's one advantage of being small: you can provide a level of service no big company can. [6]\n",
      "\n",
      "Once you realize that existing conventions are not the upper bound on user experience, it's interesting in a very pleasant way to think about how far you could go to delight your users.\n",
      "\n",
      "## Experience\n",
      "\n",
      "I was trying to think of a phrase to convey how extreme your attention to users should be, and I realized Steve Jobs had already done it: insanely great. Steve wasn't just using \"insanely\" as a synonym for \"very.\" He meant it more literally - that one should focus on quality of execution to a degree that in everyday life would be considered pathological.\n",
      "\n",
      "All the most successful startups we've funded have, and that probably doesn't surprise would-be founders. What novice founders don't get is what insanely great translates to in a larval startup. When Steve Jobs started using that phrase, Apple was already an established company. He meant the Mac (and its documentation and even packaging - such is the nature of obsession) should be insanely well designed and manufactured. That's not hard for engineers to grasp. It's just a more extreme version of designing a robust and elegant product.\n",
      "\n",
      "What founders have a hard time grasping (and Steve himself might have had a hard time grasping) is what insanely great morphs into as you roll the time slider back to the first couple months of a startup's life. It's not the product that should be insanely great, but the experience of being your user. The product is just one component of that. For a big company it's necessarily the dominant one. But you can and should give users an insanely great experience with an early, incomplete, buggy product, if you make up the difference with attentiveness.\n",
      "\n",
      "Can, perhaps, but should? Yes. Over-engaging with early users is not just a permissible technique for getting growth rolling. For most successful startups it's a necessary part of the feedback loop that makes the product good. Making a better mousetrap is not an atomic operation. Even if you start the way most successful startups have, by building something you yourself need, the first thing you build is never quite right. And except in domains with big penalties for making mistakes, it's often better not to aim for perfection initially. In software, especially, it usually works best to get something in front of users as soon as it has a quantum of utility, and then see what they do with it. Perfectionism is often an excuse for procrastination, and in any case your initial model of users is always inaccurate, even if you're one of them. [7]\n",
      "\n",
      "The feedback you get from engaging directly with your earliest users will be the best you ever get. When you're so big you have to resort to focus groups, you'll wish you could go over to your users' homes and offices and watch them use your stuff like you did when there were only a handful of them.\n",
      "\n",
      "## Fire\n",
      "\n",
      "Sometimes the right unscalable trick is to focus on a deliberately narrow market. It's like keeping a fire contained at first to get it really hot before adding more logs.\n",
      "\n",
      "That's what Facebook did. At first it was just for Harvard students. In that form it only had a potential market of a few thousand people, but because they felt it was really for them, a critical mass of them signed up. After Facebook stopped being for\n",
      "\n",
      "Harvard students, it remained for students at specific colleges for quite a while. When I interviewed Mark Zuckerberg at Startup School, he said that while it was a lot of work creating course lists for each school, doing that made students feel the site was their natural home.\n",
      "\n",
      "Any startup that could be described as a marketplace usually has to start in a subset of the market, but this can work for other startups as well. It's always worth asking if there's a subset of the market in which you can get a critical mass of users quickly. [8]\n",
      "\n",
      "Most startups that use the contained fire strategy do it unconsciously. They build something for themselves and their friends, who happen to be the early adopters, and only realize later that they could offer it to a broader market. The strategy works just as well if you do it unconsciously. The biggest danger of not being consciously aware of this pattern is for those who naively discard part of it. E.g. if you don't build something for yourself and your friends, or even if you do, but you come from the corporate world and your friends are not early adopters, you'll no longer have a perfect initial market handed to you on a platter.\n",
      "\n",
      "Among companies, the best early adopters are usually other startups. They're more open to new things both by nature and because, having just been started, they haven't made all their choices yet. Plus when they succeed they grow fast, and you with them. It was one of many unforeseen advantages of the YC model (and specifically of making YC big) that B2B startups now have an instant market of hundreds of other startups ready at hand.\n",
      "\n",
      "## Meraki\n",
      "\n",
      "For hardware startups there's a variant of doing things that don't scale that we call \"pulling a Meraki.\" Although we didn't fund Meraki, the founders were Robert Morris's grad students, so we know their history. They got started by doing something that really doesn't scale: assembling their routers themselves.\n",
      "\n",
      "Hardware startups face an obstacle that software startups don't. The minimum order for a factory production run is usually several hundred thousand dollars. Which can put you in a catch-22: without a product you can't generate the growth you need to raise the money to manufacture your product. Back when hardware startups had to rely on investors for money, you had to be pretty convincing to overcome this. The arrival of crowdfunding (or more precisely, preorders) has helped a lot. But even so I'd advise startups to pull a Meraki initially if they can. That's what Pebble did. The Pebbles assembled the first several hundred watches themselves. If they hadn't gone through that phase, they probably wouldn't have sold $10 million worth of watches when they did go on Kickstarter.\n",
      "\n",
      "Like paying excessive attention to early customers, fabricating things yourself turns out to be valuable for hardware startups. You can tweak the design faster when you're the factory, and you learn things you'd never have known otherwise. Eric Migicovsky of Pebble said one of the things he learned was \"how valuable it was to source good screws.\" Who knew?\n",
      "\n",
      "## Consult\n",
      "\n",
      "Sometimes we advise founders of B2B startups to take overengagement to an extreme, and to pick a single user and act as if they were consultants building something just for that one user. The initial user serves as the form for your mold; keep tweaking till you fit their needs perfectly, and you'll usually find you've made something other users want too. Even if there aren't many of them, there are probably adjacent territories that have more. As long as you can find just one user who really needs something and can act on that need, you've got a toehold in making something people want, and that's as much as any startup needs initially. [9]\n",
      "\n",
      "Consulting is the canonical example of work that doesn't scale. But (like other ways of bestowing one's favors liberally) it's safe to do it so long as you're not being paid to. That's where companies cross the line. So long as you're a product company that's merely being extra attentive to a customer, they're very grateful even if you don't solve all their problems. But when they start paying you specifically for that attentiveness - when they start paying you by the hour - they expect you to do everything.\n",
      "\n",
      "Another consulting-like technique for recruiting initially lukewarm users is to use your software yourselves on their behalf. We did that at Viaweb. When we approached merchants asking if they wanted to use our software to make online stores, some said no, but they'd let us make one for them. Since we would do anything to get users, we did. We felt pretty lame at the time. Instead of organizing big strategic e-commerce partnerships, we were trying to sell luggage and pens and men's shirts. But in retrospect it was exactly the right thing to do, because it taught us how it would feel to merchants to use our software. Sometimes the feedback loop was near instantaneous: in the middle of building some merchant's site I'd find I needed a feature we didn't have, so I'd spend a couple hours implementing it and then resume building the site.\n",
      "\n",
      "## Manual\n",
      "\n",
      "There's a more extreme variant where you don't just use your software, but are your software. When you only have a small number of users, you can sometimes get away with doing by hand things that you plan to automate later. This lets you launch faster, and when you do finally automate yourself out of the loop, you'll know exactly what to build because you'll have muscle memory from doing it yourself.\n",
      "\n",
      "When manual components look to the user like software, this technique starts to have aspects of a practical joke. For example, the way Stripe delivered \"instant\" merchant accounts to its first users was that the founders manually signed them up for traditional merchant accounts behind the scenes.\n",
      "\n",
      "Some startups could be entirely manual at first. If you can find someone with a problem that needs solving and you can solve it manually, go ahead and do that for as long as you can, and then gradually automate the bottlenecks. It would be a little frightening to be solving users' problems in a way that wasn't yet automatic, but less frightening than the far more common case of having something automatic that doesn't yet solve anyone's problems.\n",
      "\n",
      "## Big\n",
      "\n",
      "I should mention one sort of initial tactic that usually doesn't work: the Big Launch. I occasionally meet founders who seem to believe startups are projectiles rather than powered aircraft, and that they'll make it big if and only if they're launched with sufficient initial velocity. They want to launch simultaneously in 8 different publications, with embargoes. And on a tuesday, of course, since they read somewhere that's the optimum day to launch something.\n",
      "\n",
      "It's easy to see how little launches matter. Think of some successful startups. How many of their launches do you remember? All you need from a launch is some initial core of users. How well you're doing a few months later will depend more on how happy you made those users than how many there were of them. [10]\n",
      "\n",
      "So why do founders think launches matter? A combination of solipsism and laziness. They think what they're building is so great that everyone who hears about it will immediately sign up. Plus it would be so much less work if you could get users merely by broadcasting your existence, rather than recruiting them one at a time. But even if what you're building really is great, getting users will always be a gradual process - partly because great things are usually also novel, but mainly because users have other things to think about.\n",
      "\n",
      "Partnerships too usually don't work. They don't work for startups in general, but they especially don't work as a way to get growth started. It's a common mistake among inexperienced founders to believe that a partnership with a big company will be their big break. Six months later they're all saying the same thing: that was way more work than we expected, and we ended up getting practically nothing out of it. [11]\n",
      "\n",
      "It's not enough just to do something extraordinary initially. You have to make an extraordinary effort initially. Any strategy that omits the effort - whether it's expecting a big launch to get you users, or a big partner - is ipso facto suspect.\n",
      "\n",
      "## Vector\n",
      "\n",
      "The need to do something unscalably laborious to get started is so nearly universal that it might be a good idea to stop thinking of startup ideas as scalars. Instead we should try thinking of them as pairs of what you're going to build, plus the unscalable thing(s) you're going to do initially to get the company going.\n",
      "\n",
      "It could be interesting to start viewing startup ideas this way, because now that there are two components you can try to be imaginative about the second as well as the first. But in most cases the second component will be what it usually is - recruit users manually and give them an overwhelmingly good experience - and the main benefit of treating startups as vectors will be to remind founders they need to work hard in two dimensions. [12]\n",
      "\n",
      "In the best case, both components of the vector contribute to your company's DNA: the unscalable things you have to do to get\n",
      "\n",
      "started are not merely a necessary evil, but change the company permanently for the better. If you have to be aggressive about user acquisition when you're small, you'll probably still be aggressive when you're big. If you have to manufacture your own hardware, or use your software on users's behalf, you'll learn things you couldn't have learned otherwise. And most importantly, if you have to work hard to delight users when you only have a handful of them, you'll keep doing it when you have a lot.\n",
      "\n",
      "## Notes\n",
      "\n",
      "- [1] Actually Emerson never mentioned mousetraps specifically. He wrote \"If a man has good corn or wood, or boards, or pigs, to sell, or can make better chairs or knives, crucibles or church organs, than anybody else, you will find a broad hard-beaten road to his house, though it be in the woods.\"\n",
      "- [2] Thanks to Sam Altman for suggesting I make this explicit. And no, you can't avoid doing sales by hiring someone to do it for you. You have to do sales yourself initially. Later you can hire a real salesperson to replace you.\n",
      "- [3] The reason this works is that as you get bigger, your size helps you grow. Patrick Collison wrote \"At some point, there was a very noticeable change in how Stripe felt. It tipped from being this boulder we had to push to being a train car that in fact had its own momentum.\"\n",
      "- [4] One of the more subtle ways in which YC can help founders is by calibrating their ambitions, because we know exactly how a lot of successful startups looked when they were just getting started.\n",
      "- [5] If you're building something for which you can't easily get a small set of users to observe - e.g. enterprise software - and in a domain where you have no connections, you'll have to rely on cold calls and introductions. But should you even be working on such an idea?\n",
      "- [6] Garry Tan pointed out an interesting trap founders fall into in the beginning. They want so much to seem big that they imitate even the flaws of big companies, like indifference to individual users. This seems to them more \"professional.\" Actually it's better to embrace the fact that you're small and use whatever advantages that brings.\n",
      "- [7] Your user model almost couldn't be perfectly accurate, because users' needs often change in response to what you build for them. Build them a microcomputer, and suddenly they need to run spreadsheets on it, because the arrival of your new microcomputer causes someone to invent the spreadsheet.\n",
      "- [8] If you have to choose between the subset that will sign up quickest and those that will pay the most, it's usually best to pick the former, because those are probably the early adopters. They'll\n",
      "\n",
      "have a better influence on your product, and they won't make you expend as much effort on sales. And though they have less money, you don't need that much to maintain your target growth rate early on.\n",
      "\n",
      "- [9] Yes, I can imagine cases where you could end up making something that was really only useful for one user. But those are usually obvious, even to inexperienced founders. So if it's not obvious you'd be making something for a market of one, don't worry about that danger.\n",
      "- [10] There may even be an inverse correlation between launch magnitude and success. The only launches I remember are famous flops like the Segway and Google Wave. Wave is a particularly alarming example, because I think it was actually a great idea that was killed partly by its overdone launch.\n",
      "- [11] Google grew big on the back of Yahoo, but that wasn't a partnership. Yahoo was their customer.\n",
      "\n",
      "[12] It will also remind founders that an idea where the second component is empty - an idea where there is nothing you can do to get going, e.g. because you have no way to find users to recruit manually - is probably a bad idea, at least for those founders.\n",
      "\n",
      "Thanks to Sam Altman, Paul Buchheit, Patrick Collison, Kevin Hale, Steven Levy, Jessica Livingston, Geoff Ralston, and Garry Tan for reading drafts of this.\n",
      "\n",
      "- Japanese Translation\n",
      "- Russian Translation\n",
      "- French Translation\n",
      "- Arabic Translation\n",
      "- Italian Translation\n",
      "- Korean Translation\n"
     ]
    }
   ],
   "source": [
    "from docling.document_converter import DocumentConverter\n",
    "\n",
    "converter = DocumentConverter()\n",
    "result = converter.convert(DATA_PATH)\n",
    "print(result.document.export_to_markdown())"
   ]
  },
  {
   "cell_type": "markdown",
   "metadata": {},
   "source": [
    "# Indexing chunks in Vector Store"
   ]
  },
  {
   "cell_type": "code",
   "execution_count": 39,
   "metadata": {},
   "outputs": [],
   "source": [
    "chunks = text_splitter.split_text(text=result.document.export_to_markdown())"
   ]
  },
  {
   "cell_type": "code",
   "execution_count": 37,
   "metadata": {},
   "outputs": [],
   "source": [
    "from langchain_community.vectorstores import FAISS\n",
    "from langchain_ollama import OllamaEmbeddings\n",
    "# from langchain_community.embeddings import OllamaEmbeddings (DEPRECATED)\n",
    "MODEL = \"llama3.1\"\n",
    "embedding_model = OllamaEmbeddings(model=MODEL)"
   ]
  },
  {
   "cell_type": "code",
   "execution_count": null,
   "metadata": {},
   "outputs": [],
   "source": [
    "db = FAISS.from_documents(documents=chunks, embedding=embedding_model)"
   ]
  },
  {
   "cell_type": "code",
   "execution_count": 40,
   "metadata": {},
   "outputs": [],
   "source": [
    "db_docling = FAISS.from_texts(texts=chunks, embedding=embedding_model)"
   ]
  },
  {
   "cell_type": "markdown",
   "metadata": {},
   "source": [
    "# Setting Up a retriever"
   ]
  },
  {
   "cell_type": "code",
   "execution_count": 7,
   "metadata": {},
   "outputs": [
    {
     "data": {
      "text/plain": [
       "[Document(metadata={'source': '/home/dreca/dev/RAG-introduction/paul.pdf', 'page': 2}, page_content=\"can. That's one advantage of being small: you can provide a level\\nof service no big company can. [6]\\nOnce you realize that existing conventions are not the upper\\nbound on user experience, it's interesting in a very pleasant way\\nto think about how far you could go to delight your users.\\n8/6/24, 11:04 AM Do Things that Don't Scale\\nhttps://paulgraham.com/ds.html 3/9\"),\n",
       " Document(metadata={'source': '/home/dreca/dev/RAG-introduction/paul.pdf', 'page': 6}, page_content=\"have to make an extraordinary effort initially. Any strategy that\\nomits the effort — whether it's expecting a big launch to get you\\nusers, or a big partner — is ipso facto suspect.\\nVector\\nThe need to do something unscalably laborious to get started is\\nso nearly universal that it might be a good idea to stop thinking\\nof startup ideas as scalars. Instead we should try thinking of\\nthem as pairs of what you're going to build, plus the unscalable\\nthing(s) you're going to do initially to get the company going.\\nIt could be interesting to start viewing startup ideas this way,\\nbecause now that there are two components you can try to be\\nimaginative about the second as well as the first. But in most\\ncases the second component will be what it usually is — recruit\\nusers manually and give them an overwhelmingly good\\nexperience — and the main benefit of treating startups as vectors\\nwill be to remind founders they need to work hard in two\\ndimensions. [12]\"),\n",
       " Document(metadata={'source': '/home/dreca/dev/RAG-introduction/paul.pdf', 'page': 5}, page_content=\"Some startups could be entirely manual at first. If you can find\\nsomeone with a problem that needs solving and you can solve it\\nmanually, go ahead and do that for as long as you can, and then\\ngradually automate the bottlenecks. It would be a little\\nfrightening to be solving users' problems in a way that wasn't yet\\nautomatic, but less frightening than the far more common case of\\nhaving something automatic that doesn't yet solve anyone's\\nproblems.\\n8/6/24, 11:04 AM Do Things that Don't Scale\\nhttps://paulgraham.com/ds.html 6/9\"),\n",
       " Document(metadata={'source': '/home/dreca/dev/RAG-introduction/paul.pdf', 'page': 2}, page_content='make a more deliberate effort to locate the most promising vein\\nof users. The usual way to do that is to get some initial set of\\nusers by doing a comparatively untargeted launch, and then to\\nobserve which kind seem most enthusiastic, and seek out more\\nlike them. For example, Ben Silbermann noticed that a lot of the\\nearliest Pinterest users were interested in design, so he went to a\\nconference of design bloggers to recruit users, and that worked\\nwell. [5]\\nDelight\\nYou should take extraordinary measures not just to acquire users,\\nbut also to make them happy. For as long as they could (which\\nturned out to be surprisingly long), Wufoo sent each new user a\\nhand-written thank you note. Your first users should feel that\\nsigning up with you was one of the best choices they ever made.\\nAnd you in turn should be racking your brains to think of new\\nways to delight them.\\nWhy do we have to teach startups this? Why is it counterintuitive\\nfor founders? Three reasons, I think.')]"
      ]
     },
     "execution_count": 7,
     "metadata": {},
     "output_type": "execute_result"
    }
   ],
   "source": [
    "retriever = db.as_retriever()\n",
    "retriever.invoke(\"What can you get away with when you only have a small number of users?\")"
   ]
  },
  {
   "cell_type": "code",
   "execution_count": 41,
   "metadata": {},
   "outputs": [
    {
     "data": {
      "text/plain": [
       "[Document(metadata={}, page_content=\"Can, perhaps, but should? Yes. Over-engaging with early users is not just a permissible technique for getting growth rolling. For most successful startups it's a necessary part of the feedback loop that makes the product good. Making a better mousetrap is not an atomic operation. Even if you start the way most successful startups have, by building something you yourself need, the first thing you build is never quite right. And except in domains with big penalties for making mistakes, it's often better not to aim for perfection initially. In software, especially, it usually works best to get something in front of users as soon as it has a quantum of utility, and then see what they do with it. Perfectionism is often an excuse for procrastination, and in any case your initial model of users is always inaccurate, even if you're one of them. [7]\"),\n",
       " Document(metadata={}, page_content=\"One is that a lot of startup founders are trained as engineers, and customer service is not part of the training of engineers. You're supposed to build things that are robust and elegant, not be slavishly attentive to individual users like some kind of salesperson. Ironically, part of the reason engineering is traditionally averse to handholding is that its traditions date from a time when engineers were less powerful - when they were only in charge of their narrow domain of building things, rather than running the whole show. You can be ornery when you're Scotty, but not when you're Kirk.\"),\n",
       " Document(metadata={}, page_content='- [4] One of the more subtle ways in which YC can help founders is by calibrating their ambitions, because we know exactly how a lot of successful startups looked when they were just getting started.\\n- [5] If you\\'re building something for which you can\\'t easily get a small set of users to observe - e.g. enterprise software - and in a domain where you have no connections, you\\'ll have to rely on cold calls and introductions. But should you even be working on such an idea?\\n- [6] Garry Tan pointed out an interesting trap founders fall into in the beginning. They want so much to seem big that they imitate even the flaws of big companies, like indifference to individual users. This seems to them more \"professional.\" Actually it\\'s better to embrace the fact that you\\'re small and use whatever advantages that brings.'),\n",
       " Document(metadata={}, page_content=\"It's harmless if reporters and know-it-alls dismiss your startup. They always get things wrong. It's even ok if investors dismiss your startup; they'll change their minds when they see growth. The big danger is that you'll dismiss your startup yourself. I've seen it happen. I often have to encourage founders who don't see the full potential of what they're building. Even Bill Gates made that mistake. He returned to Harvard for the fall semester after starting Microsoft. He didn't stay long, but he wouldn't have returned at all if he'd realized Microsoft was going to be even a fraction of the size it turned out to be. [4]\")]"
      ]
     },
     "execution_count": 41,
     "metadata": {},
     "output_type": "execute_result"
    }
   ],
   "source": [
    "retriever_docling = db_docling.as_retriever()\n",
    "retriever_docling.invoke(\"What can you get away with when you only have a small number of users?\")"
   ]
  },
  {
   "cell_type": "markdown",
   "metadata": {},
   "source": [
    "# Model"
   ]
  },
  {
   "cell_type": "code",
   "execution_count": 9,
   "metadata": {},
   "outputs": [],
   "source": [
    "from langchain_ollama import ChatOllama"
   ]
  },
  {
   "cell_type": "code",
   "execution_count": 10,
   "metadata": {},
   "outputs": [
    {
     "data": {
      "text/plain": [
       "AIMessage(content='As of my last update in April 2023, Joe Biden is the President of the United States. He took office on January 20, 2021, succeeding Donald Trump as the 46th President of the United States. Please note that this information might change over time due to elections or other political developments.', additional_kwargs={}, response_metadata={'model': 'llama3.1', 'created_at': '2024-11-08T12:21:32.13804996Z', 'message': {'role': 'assistant', 'content': ''}, 'done_reason': 'stop', 'done': True, 'total_duration': 1875383821, 'load_duration': 20175073, 'prompt_eval_count': 19, 'prompt_eval_duration': 32000000, 'eval_count': 65, 'eval_duration': 1821000000}, id='run-5d1fc4f9-b597-41bb-93e6-6b42f589e89b-0', usage_metadata={'input_tokens': 19, 'output_tokens': 65, 'total_tokens': 84})"
      ]
     },
     "execution_count": 10,
     "metadata": {},
     "output_type": "execute_result"
    }
   ],
   "source": [
    "model = ChatOllama(model=MODEL, temperature=0)\n",
    "model.invoke(\"Who is the president of the United States?\")"
   ]
  },
  {
   "cell_type": "markdown",
   "metadata": {},
   "source": [
    "# Building a Chain"
   ]
  },
  {
   "cell_type": "code",
   "execution_count": null,
   "metadata": {},
   "outputs": [
    {
     "name": "stdout",
     "output_type": "stream",
     "text": [
      "As of my last update in April 2023, Joe Biden is the President of the United States. He took office on January 20, 2021, succeeding Donald Trump as the 46th President of the United States. Please note that this information might change over time due to elections or other political developments.\n"
     ]
    }
   ],
   "source": [
    "from langchain_core.output_parsers import StrOutputParser\n",
    "\n",
    "parser = StrOutputParser()\n",
    "\n",
    "chain = model| parser\n",
    "print(chain.invoke(\"Who is the president of the United States?\"))"
   ]
  },
  {
   "cell_type": "code",
   "execution_count": 18,
   "metadata": {},
   "outputs": [
    {
     "name": "stdout",
     "output_type": "stream",
     "text": [
      "\n",
      "You are an assistant that provides answers to questions based on\n",
      "a given context.\n",
      "\n",
      "Answer the question based on the context. If you can't answer the question, reply \"I don't know\".\n",
      "\n",
      "Be as concise as possible and go straight to the point.\n",
      "\n",
      "Context: The president of the United States now is Donald Trump .\n",
      "\n",
      "Question: Who is the president of the United States?\n",
      "\n"
     ]
    }
   ],
   "source": [
    "from langchain.prompts import PromptTemplate\n",
    "\n",
    "template = \"\"\"\n",
    "You are an assistant that provides answers to questions based on\n",
    "a given context.\n",
    "\n",
    "Answer the question based on the context. If you can't answer the question, reply \"I don't know\".\n",
    "\n",
    "Be as concise as possible and go straight to the point.\n",
    "\n",
    "Context: {context}\n",
    "\n",
    "Question: {question}\n",
    "\"\"\"\n",
    "prompt = PromptTemplate.from_template(template)\n",
    "print(prompt.format(context=\"The president of the United States now is Donald Trump .\", question=\"Who is the president of the United States?\"))"
   ]
  },
  {
   "cell_type": "code",
   "execution_count": 19,
   "metadata": {},
   "outputs": [
    {
     "data": {
      "text/plain": [
       "'Donald Trump.'"
      ]
     },
     "execution_count": 19,
     "metadata": {},
     "output_type": "execute_result"
    }
   ],
   "source": [
    "chain = prompt | model | parser\n",
    "\n",
    "chain.invoke({\n",
    "    \"context\": \"The president of the United States now is Donald Trump .\",\n",
    "    \"question\": \"Who is the president of the United States?\"\n",
    "}\n",
    ")"
   ]
  },
  {
   "cell_type": "code",
   "execution_count": 20,
   "metadata": {},
   "outputs": [],
   "source": [
    "from operator import itemgetter\n",
    "\n",
    "chain = (\n",
    "    {\n",
    "        \"context\": itemgetter(\"question\") | retriever,\n",
    "        \"question\": itemgetter(\"question\"),\n",
    "    }\n",
    "    | prompt\n",
    "    | model\n",
    "    | parser\n",
    ")"
   ]
  },
  {
   "cell_type": "code",
   "execution_count": 24,
   "metadata": {},
   "outputs": [
    {
     "name": "stdout",
     "output_type": "stream",
     "text": [
      "Question: What can you get away with when you only have a small number of users?\n",
      "Answer: You can provide a level of service no big company can.\n",
      "****************************************************************************************************\n",
      "\n",
      "Question: What's the most common unscalable thing founders have to do at the start?\n",
      "Answer: Recruit users manually and give them an overwhelmingly good experience.\n",
      "****************************************************************************************************\n",
      "\n",
      "Question: What's one of the biggest things inexperienced founders and investors get wrong startups?\n",
      "Answer: They expect a big launch or partner to get users, rather than putting in an extraordinary effort initially.\n",
      "****************************************************************************************************\n",
      "\n"
     ]
    }
   ],
   "source": [
    "questions = [\n",
    "    \"What can you get away with when you only have a small number of users?\",\n",
    "    \"What's the most common unscalable thing founders have to do at the start?\",\n",
    "    \"What's one of the biggest things inexperienced founders and investors get wrong startups?\",\n",
    "]\n",
    "\n",
    "for question in questions:\n",
    "    print(f\"Question: {question}\")\n",
    "    print(f\"Answer: {chain.invoke({'question': question})}\")\n",
    "    print(100 * \"*\" + \"\\n\")"
   ]
  },
  {
   "cell_type": "code",
   "execution_count": 42,
   "metadata": {},
   "outputs": [
    {
     "name": "stdout",
     "output_type": "stream",
     "text": [
      "Question: What can you get away with when you only have a small number of users?\n",
      "Answer: You can provide a level of service no big company can.\n",
      "****************************************************************************************************\n",
      "\n",
      "Question: What's the most common unscalable thing founders have to do at the start?\n",
      "Answer: Recruit users manually and give them an overwhelmingly good experience.\n",
      "****************************************************************************************************\n",
      "\n",
      "Question: What's one of the biggest things inexperienced founders and investors get wrong startups?\n",
      "Answer: They expect a big launch or partner to get users, without putting in an initial effort to acquire and delight them.\n",
      "****************************************************************************************************\n",
      "\n"
     ]
    }
   ],
   "source": [
    "\n",
    "chain_docling = (\n",
    "    {\n",
    "        \"context\": itemgetter(\"question\") | retriever_docling,\n",
    "        \"question\": itemgetter(\"question\"),\n",
    "    }\n",
    "    | prompt\n",
    "    | model\n",
    "    | parser\n",
    ")\n",
    "\n",
    "for question in questions:\n",
    "    print(f\"Question: {question}\")\n",
    "    print(f\"Answer: {chain.invoke({'question': question})}\")\n",
    "    print(100 * \"*\" + \"\\n\")"
   ]
  },
  {
   "cell_type": "markdown",
   "metadata": {},
   "source": [
    "# Reading Nissan File"
   ]
  },
  {
   "cell_type": "markdown",
   "metadata": {},
   "source": []
  },
  {
   "cell_type": "code",
   "execution_count": 49,
   "metadata": {},
   "outputs": [
    {
     "data": {
      "text/plain": [
       "'SEÇÃO EM\\n\\n## MECÂNICA DO MOTOR\\n\\n## CONTEÚDO\\n\\n| YS23DDT/YS23DDTT (M9T)                                                                                                                       |\\n|----------------------------------------------------------------------------------------------------------------------------------------------|\\n| PRECAUÇÃO ...............................................3                                                                                   |\\n| PRECAUÇÕES ....................................................3                                                                             |\\n| plementar (SRS) \"AIRBAG\" e \"PRÉ-TENSIONA- DOR DO CINTO DE SEGURANÇA\" ........................ 3 Precauções Necessárias para a Rotação do Vo- |\\n| lante de Direção após Desconectar a Bateria .......... 3 Precauções para Procedimentos sem a Cobertu-                                        |\\n| ra Superior do Painel Dash ...................................... 4                                                                          |\\n| Precauções para Serviço no Motor .......................... 4                                                                                |\\n| Peças que Requerem Aperto Angular ..................... 5                                                                                    |\\n| Precauções para a Junta Líquida ............................ 5                                                                               |\\n| Precauções para Componentes de Motor a Diesel..... 6                                                                                         |\\n| PREPARAÇÃO ...........................................10                                                                                     |\\n| ........................ 10                                                                                                                  |\\n| Ferramentas Especiais de Serviço                                                                                                             |\\n| INSPEÇÃO BÁSICA ...................................14                                                                                        |\\n| PRESSÃO DE COMPRESSÃO ........................14                                                                                             |\\n| Inspeção ................................................................. 14                                                                |\\n| DIAGNÓSTICO POR SINTOMA .................15                                                                                                  |\\n| SOLUÇÃO DE PROBLEMAS DE RUÍDO, VI- BRAÇÃO E ASPEREZA (NVH) ........................15                                                        |\\n| Utilize a Tabela Abaixo para Auxiliá-lo a Encontrar  a Causa do Sintoma ............................................... 16                   |\\n| MANUTENÇÃO PERIÓDICA ......................17                                                                                                |\\n| CORREIA DE ACIONAMENTO ........................17                                                                                            |\\n| Vista Explodida ...................................................... 17                                                                    |\\n| Remoção e Instalação ........................................... 17                                                                          |\\n| Inspeção ................................................................. 19                                                                |\\n\\n| Ajuste ...................................................................... 20                                          |\\n|---------------------------------------------------------------------------------------------------------------------------|\\n| FILTRO DE AR ................................................. 21                                                         |\\n| Vista Explodida ....................................................... 21                                                |\\n| Remoção e Instalação ............................................ 21                                                      |\\n| Inspeção (Tipo Papel Seco) ................................... 22                                                         |\\n| REMOÇÃO E INSTALAÇÃO ......................23                                                                             |\\n| COBERTURA DO MOTOR .............................. 23                                                                      |\\n| Vista Explodida ....................................................... 23                                                |\\n| Remoção e Instalação ............................................ 23                                                      |\\n| TENSIONADOR AUTOMÁTICO DA COR- REIA DE ACIONAMENTO DE ACESSÓRIOS  E POLIA INTERMEDIÁRIA .............................. 24 |\\n| Vista Explodida ....................................................... 24                                                |\\n| Remoção e Instalação ............................................ 24                                                      |\\n| FILTRO E DUTO DE AR .................................. 25                                                                 |\\n| Vista Explodida ....................................................... 25                                                |\\n| Remoção e Instalação ............................................ 25                                                      |\\n| Inspeção ................................................................. 26                                             |\\n| RESFRIADOR DE AR (INTERCOOLER) ........ 27                                                                                |\\n| Vista Explodida ....................................................... 27                                                |\\n| Remoção e Instalação ............................................ 28                                                      |\\n| Inspeção ................................................................. 31                                             |\\n| COLETOR DE ADMISSÃO .............................. 32                                                                     |\\n| Vista Explodida ....................................................... 32                                                |\\n| Remoção e Instalação ............................................ 32                                                      |\\n| Inspeção ................................................................. 33                                             |\\n| SISTEMA EGR ................................................. 34                                                          |\\n| Vista Explodida ....................................................... 34                                                |\\n| Remoção e Instalação ............................................ 35                                                      |\\n| DPF (FILTRO DE PARTICULADO DIESEL) ... 37                                                                                 |\\n| Vista Explodida ....................................................... 37                                                |\\n| Remoção e Instalação ............................................ 37                                                      |\\n\\nA\\n\\nB\\n\\nC\\n\\nD\\n\\nE\\n\\nF\\n\\nG\\n\\nH\\n\\nI\\n\\nJ\\n\\nEM\\n\\nL\\n\\nM\\n\\nN\\n\\nO\\n\\nP\\n\\n| CONJUNTO DO TURBOCOMPRESSOR E                                                                                                                      |                                                 |\\n|----------------------------------------------------------------------------------------------------------------------------------------------------|-------------------------------------------------|\\n| COLETOR DE ESCAPE ................................... 39                                                                                           |                                                 |\\n| Vista Explodida ....................................................... 39                                                                         | ............................................ 40 |\\n| Remoção e Instalação Inspeção ................................................................. 43                                                 |                                                 |\\n| TURBOCOMPRESSOR .................................... 45                                                                                            |                                                 |\\n| Vista Explodida ....................................................... 45                                                                         |                                                 |\\n| ............................................ 45                                                                                                    |                                                 |\\n| Remoção e Instalação                                                                                                                               |                                                 |\\n| Inspeção ................................................................. 46                                                                      |                                                 |\\n| CÁRTER DE ÓLEO (INFERIOR) ...................... 48                                                                                                |                                                 |\\n| Vista Explodida ....................................................... 48                                                                         |                                                 |\\n| Remoção e Instalação ............................................ 49                                                                               |                                                 |\\n| Inspeção ................................................................. 50                                                                      |                                                 |\\n| VELA DE AQUECIMENTO ............................... 51                                                                                             |                                                 |\\n| Vista Explodida ....................................................... 51                                                                         |                                                 |\\n| Remoção e Instalação ............................................ 51                                                                               |                                                 |\\n| BOMBA DE VÁCUO ......................................... 52                                                                                        |                                                 |\\n| Vista Explodida ....................................................... 52                                                                         |                                                 |\\n| Remoção e Instalação ............................................ 52                                                                               |                                                 |\\n| SEPARADOR DE ÓLEO .................................. 54                                                                                            |                                                 |\\n| Vista Explodida ....................................................... 54                                                                         |                                                 |\\n| Remoção e Instalação ............................................ 54                                                                               |                                                 |\\n| TUBO DE INJEÇÃO E INJETOR DE COM-                                                                                                                  |                                                 |\\n| BUSTÍVEL ......................................................... 57                                                                              |                                                 |\\n| Vista Explodida ....................................................... 57                                                                         |                                                 |\\n| Remoção e Instalação ............................................ 57                                                                               |                                                 |\\n| Inspeção ................................................................. 59                                                                      |                                                 |\\n| BOMBA DE COMBUSTÍVEL ............................ 60                                                                                               |                                                 |\\n| Vista Explodida ....................................................... 60                                                                         |                                                 |\\n| Remoção e Instalação ............................................ 60                                                                               |                                                 |\\n| Inspeção ................................................................. 61                                                                      |                                                 |\\n| ENGRENAGEM DA BOMBA DE COMBUSTÍ-                                                                                                                   |                                                 |\\n| VEL ................................................................... 62                                                                         |                                                 |\\n| Vista Explodida ....................................................... 62                                                                         |                                                 |\\n| Remoção e Instalação ............................................ 62                                                                               |                                                 |\\n| CORRENTE DE SINCRONISMO ..................... 65                                                                                                   |                                                 |\\n| Vista Explodida ....................................................... 65                                                                         |                                                 |\\n| Remoção e Instalação ............................................ 67 Inspeção ................................................................. 71 |                                                 |\\n| ENGRENAGEM DE SINCRONISMO ............... 73                                                                                                       |                                                 |\\n| Vista Explodida ....................................................... 73                                                                         |                                                 |\\n| Remoção e Instalação ............................................ 74                                                                               |                                                 |\\n| COMANDO DE VÁLVULAS ............................. 77                                                                                               |                                                 |\\n| Vista Explodida ....................................................... 77                                                                         |                                                 |\\n| Remoção e Instalação ............................................ 77                                                                               |                                                 |\\n| Inspeção ................................................................. 81                                                                      |                                                 |\\n| VEDADOR DE ÓLEO ....................................... 83                                                                                         |                                                 |\\n| VEDADOR DE ÓLEO DIANTEIRO: Remoção e  Instalação ............................................................... 83                                |                                                 |\\n\\n| VEDADOR DE ÓLEO TRASEIRO: Remoção e  Instalação ................................................................84                            |                                      |\\n|-----------------------------------------------------------------------------------------------------------------------------------------------|--------------------------------------|\\n| REMOÇÃO E INSTALAÇÃO DA UNIDA- DE .............................................................. 85                                           |                                      |\\n| CONJUNTO DO MOTOR ..................................85                                                                                        |                                      |\\n| Vista Explodida .......................................................85                                                                     |                                      |\\n| Remoção e Instalação ............................................85                                                                           |                                      |\\n| Inspeção .................................................................89                                                                  |                                      |\\n| Inspeção ...............................................................101                                                                   |                                      |\\n| AJUSTE DO CAVALETE DE MOTOR ..............91 Ajuste ......................................................................91                  |                                      |\\n| PLACA DE ACIONAMENTO .............................92                                                                                          |                                      |\\n| Vista Explodida .......................................................92                                                                     |                                      |\\n| Remoção e Instalação ............................................92                                                                           |                                      |\\n| CÁRTER DE ÓLEO (SUPERIOR) .....................94                                                                                             |                                      |\\n| Vista Explodida .......................................................94 Remoção e Instalação ............................................95 |                                      |\\n| CABEÇOTE DO MOTOR                                                                                                                             | ..................................97 |\\n| Vista Explodida .......................................................97                                                                     |                                      |\\n| Remoção e Instalação ............................................97                                                                           |                                      |\\n| Desmontagem e Montagem ....................................99                                                                                 |                                      |\\n| BLOCO DO MOTOR .......................................103                                                                                     |                                      |\\n| Vista Explodida .....................................................103                                                                      |                                      |\\n| Desmontagem e Montagem ..................................104                                                                                  |                                      |\\n| Ajuste da Folga entre Dentes ...............................114                                                                               |                                      |\\n| Inspeção ...............................................................117                                                                   |                                      |\\n| COMO SELECIONAR PISTÃO E CASQUI-                                                                                                              |                                      |\\n| LHO ..................................................................124                                                                     |                                      |\\n| Descrição ..............................................................124                                                                   |                                      |\\n| Pistão ....................................................................124                                                                |                                      |\\n| Casquilho da Biela ................................................125                                                                        |                                      |\\n| Casquilho de mancal ............................................127                                                                           |                                      |\\n| DADOS E ESPECIFICAÇÕES DE SERVI- ÇO (SDS) ..................................................130                                               |                                      |\\n| DADOS E ESPECIFICAÇÕES DE SERVIÇO                                                                                                             |                                      |\\n| (SDS) ...............................................................130                                                                      |                                      |\\n| Especificações Gerais ..........................................130                                                                           |                                      |\\n| Correias de acionamento ......................................130                                                                             |                                      |\\n| Coletor de Admissão .............................................130                                                                          |                                      |\\n| Coletor de Escape ................................................130                                                                         |                                      |\\n| Turbocompressor ..................................................131                                                                         |                                      |\\n| Comando de válvulas ...........................................131                                                                            |                                      |\\n| Cabeçote do Motor ...............................................131                                                                          |                                      |\\n| Bloco do Motor ......................................................133                                                                      |                                      |\\n| Casquilho do mancal ............................................138                                                                           |                                      |\\n| Casquilho da Biela ................................................138                                                                        |                                      |\\n\\n## PRECAUÇÃO\\n\\n## PRECAUÇÕES\\n\\n## Precauções quanto ao Sistema de Proteção Complementar (SRS) \"AIRBAG\" e \"PRÉTENSIONADOR DO CINTO DE SEGURANÇA\" INFOID:0000000014545400\\n\\n- O Sistema de Proteção Complementar tal como o \"AIRBAG\" e o \"PRÉ-TENSIONADOR DO CINTO DE SEGURANÇA\", usado com o cinto de segurança dianteiro, ajuda a reduzir o risco ou gravidade de ferimentos sofridos pelo motorista ou passageiro dianteiro em certos tipos de colisão. As informações necessárias para reparar o sistema com segurança estão inclusas nas seções SR e SB deste Manual de Serviço.\\n\\n## ATENÇÃO:\\n\\n- · Para evitar que o sistema SRS fique inoperante, aumentando assim o risco de ferimentos graves ou morte no caso de uma colisão em que o airbag seria inflado, toda manutenção deste sistema deve ser realizada somente por uma Concessionária Autorizada NISSAN.\\n- · A manutenção inadequada, incluindo a remoção e a instalação incorretas do SRS, pode resultar em lesões causadas pela ativação não intencional do sistema. Para a remoção do Cabo Espiral e do Módulo do Airbag, consulte a seção SR.\\n- · Não use equipamentos elétricos de teste em qualquer circuito relacionado ao SRS, a não ser que haja alguma instrução nesse sentido neste Manual de Serviço. Os chicotes elétricos do SRS podem ser identificados pela cor amarelo e/ou laranja nos respectivos chicotes ou conectores.\\n\\nPRECAUÇÕES QUANDO UTILIZAR FERRAMENTAS DE FORÇA (PNEUMÁTICA OU ELÉTRICA) E MARTELOS\\n\\n## ATENÇÃO:\\n\\n- · Ao trabalhar próximo a Unidade de Diagnóstico do Sensor do Airbag ou outros sensores do Sistema de Airbag com a ignição na posição ON ou com o motor em funcionamento, NÃO utilize ferramenta de força pneumática ou elétrica ou bata próximo aos sensores com um martelo. Fortes vibrações podem ativar os sensores e acionar os airbags, podendo causar ferimentos graves.\\n- · Quando usar ferramentas de força pneumática ou elétrica ou martelos, sempre coloque o interruptor de ignição na posição OFF, desconecte a bateria ou baterias, e espere pelo menos três minutos antes de realizar qualquer serviço.\\n\\nPrecauções Necessárias para a Rotação do Volante de Direção após Desconectar a Bateria INFOID:0000000014267210\\n\\n## NOTA:\\n\\n- · Antes de remover e instalar qualquer unidade de controle, coloque primeiramente o interruptor da ignição na posição LOCK e em seguida, desconecte os cabos da bateria.\\n- · Após finalizar o trabalho, confirme se todos os conectores da unidade de controle estão conectados corretamente, e então, reconecte os dois cabos da bateria.\\n- · Sempre utilize o CONSULT para executar o autodiagnóstico como parte de cada inspeção, após finalizar o serviço. Se o DTC for detectado, execute o diagnóstico de falha de acordo com os resultados do autodiagnóstico.\\n\\nEste veículo é equipado com um botão do interruptor da ignição e uma unidade da trava da direção. Se a bateria estiver desconectada ou descarregada, o volante de direção travará e não poderá ser girado. Se for necessário girar o volante de direção quando a bateria estiver desconectada ou descarregada, siga o procedimento de operação abaixo, antes de iniciar o reparo.\\n\\n## PROCEDIMENTO DE OPERAÇÃO\\n\\n- 1. Conecte ambos os cabos da bateria. NOTA:\\n\\nSe a bateria estiver descarregada, forneça energia, através de cabos para partida auxiliar.\\n\\n- 2. Tenha posse da chave inteligente ou insira-a em seu alojamento e coloque o interruptor da ignição na posição ACC. (Neste momento, a trava da direção será liberada.)\\n- (Neste momento, a trava da direção será liberada.)\\n- 3. Desconecte ambos os cabos da bateria. A trava da direção irá permanecer liberada com ambos os cabos da bateria desconectados e o volante de direção poderá ser girado.\\n- 4. Execute a operação de reparo necessária.\\n\\nA\\n\\nB\\n\\nC\\n\\nD\\n\\nE\\n\\nF\\n\\nG\\n\\nH\\n\\nI\\n\\nJ\\n\\nEM\\n\\nL\\n\\nM\\n\\nN\\n\\nO\\n\\nP\\n\\n- 5. Quando o serviço de reparo estiver completo, reconecte ambos os cabos da bateria. Com o pedal do freio liberado, coloque o interruptor de ignição da posição ACC para a posição ON, em seguida, para a posição LOCK. (O volante de direção irá travar quando o interruptor de ignição for colocado na posição LOCK.)\\n- 6. Execute uma verificação de autodiagnóstico de todas as unidades de controle, utilizando CONSULT.\\n\\n## Precauções para Procedimentos sem a Cobertura Superior do Painel Dash\\n\\nINFOID:0000000014267211\\n\\nAo executar o procedimento após remover a cobertura superior do painel dash, cubra a extremidade inferior do para-brisa com uma capa plástica, etc. para evitar danificar o para-brisa.\\n\\n## Precauções para Serviço no Motor\\n\\n<!-- image -->\\n\\nINFOID:0000000014267212\\n\\n## DESCONEXÃO DO TUBO DE COMBUSTÍVEL\\n\\n- · Antes de iniciar o serviço, verifique a existência de itens que produzem faíscas ou fogo na área de trabalho.\\n- Libere a pressão de combustível antes de desconectar e desmontar.\\n- · Após desconectar os tubos, feche as aberturas para interromper o vazamento de combustível.\\n\\n## DRENAGEM DO LÍQUIDO DE ARREFECIMENTO DO MOTOR\\n\\nDrene o líquido de arrefecimento do motor e o óleo'"
      ]
     },
     "execution_count": 49,
     "metadata": {},
     "output_type": "execute_result"
    }
   ],
   "source": [
    "NISSAN_PATH = os.path.join(os.getcwd(), \"Nissan_2017.pdf\")\n",
    "result = converter.convert(NISSAN_PATH)\n",
    "raw_text = result.document.export_to_markdown()"
   ]
  },
  {
   "cell_type": "code",
   "execution_count": 50,
   "metadata": {},
   "outputs": [
    {
     "data": {
      "text/plain": [
       "'SEÇÃO EM\\n\\n## MECÂNICA DO MOTOR\\n\\n## CONTEÚDO\\n\\n| YS23DDT/YS23DDTT (M9T)                                                                                                                       |\\n|----------------------------------------------------------------------------------------------------------------------------------------------|\\n| PRECAUÇÃO ...............................................3                                                                                   |\\n| PRECAUÇÕES ....................................................3                                                                             |\\n| plementar (SRS) \"AIRBAG\" e \"PRÉ-TENSIONA- DOR DO CINTO DE SEGURANÇA\" ........................ 3 Precauções Necessárias para a Rotação do Vo- |\\n| lante de Direção após Desconectar a Bateria .......... 3 Precauções para Procedimentos sem a Cobertu-                                        |\\n| ra Superior do Painel Dash ...................................... 4                                                                          |\\n| Precauções para Serviço no Motor .......................... 4                                                                                |\\n| Peças que Requerem Aperto Angular ..................... 5                                                                                    |\\n| Precauções para a Junta Líquida ............................ 5                                                                               |\\n| Precauções para Componentes de Motor a Diesel..... 6                                                                                         |\\n| PREPARAÇÃO ...........................................10                                                                                     |\\n| ........................ 10                                                                                                                  |\\n| Ferramentas Especiais de Serviço                                                                                                             |\\n| INSPEÇÃO BÁSICA ...................................14                                                                                        |\\n| PRESSÃO DE COMPRESSÃO ........................14                                                                                             |\\n| Inspeção ................................................................. 14                                                                |\\n| DIAGNÓSTICO POR SINTOMA .................15                                                                                                  |\\n| SOLUÇÃO DE PROBLEMAS DE RUÍDO, VI- BRAÇÃO E ASPEREZA (NVH) ........................15                                                        |\\n| Utilize a Tabela Abaixo para Auxiliá-lo a Encontrar  a Causa do Sintoma ............................................... 16                   |\\n| MANUTENÇÃO PERIÓDICA ......................17                                                                                                |\\n| CORREIA DE ACIONAMENTO ........................17                                                                                            |\\n| Vista Explodida ...................................................... 17                                                                    |\\n| Remoção e Instalação ........................................... 17                                                                          |\\n| Inspeção ................................................................. 19                                                                |\\n\\n| Ajuste ...................................................................... 20                                          |\\n|---------------------------------------------------------------------------------------------------------------------------|\\n| FILTRO DE AR ................................................. 21                                                         |\\n| Vista Explodida ....................................................... 21                                                |\\n| Remoção e Instalação ............................................ 21                                                      |\\n| Inspeção (Tipo Papel Seco) ................................... 22                                                         |\\n| REMOÇÃO E INSTALAÇÃO ......................23                                                                             |\\n| COBERTURA DO MOTOR .............................. 23                                                                      |\\n| Vista Explodida ....................................................... 23                                                |\\n| Remoção e Instalação ............................................ 23                                                      |\\n| TENSIONADOR AUTOMÁTICO DA COR- REIA DE ACIONAMENTO DE ACESSÓRIOS  E POLIA INTERMEDIÁRIA .............................. 24 |\\n| Vista Explodida ....................................................... 24                                                |\\n| Remoção e Instalação ............................................ 24                                                      |\\n| FILTRO E DUTO DE AR .................................. 25                                                                 |\\n| Vista Explodida ....................................................... 25                                                |\\n| Remoção e Instalação ............................................ 25                                                      |\\n| Inspeção ................................................................. 26                                             |\\n| RESFRIADOR DE AR (INTERCOOLER) ........ 27                                                                                |\\n| Vista Explodida ....................................................... 27                                                |\\n| Remoção e Instalação ............................................ 28                                                      |\\n| Inspeção ................................................................. 31                                             |\\n| COLETOR DE ADMISSÃO .............................. 32                                                                     |\\n| Vista Explodida ....................................................... 32                                                |\\n| Remoção e Instalação ............................................ 32                                                      |\\n| Inspeção ................................................................. 33                                             |\\n| SISTEMA EGR ................................................. 34                                                          |\\n| Vista Explodida ....................................................... 34                                                |\\n| Remoção e Instalação ............................................ 35                                                      |\\n| DPF (FILTRO DE PARTICULADO DIESEL) ... 37                                                                                 |\\n| Vista Explodida ....................................................... 37                                                |\\n| Remoção e Instalação ............................................ 37                                                      |\\n\\nA\\n\\nB\\n\\nC\\n\\nD\\n\\nE\\n\\nF\\n\\nG\\n\\nH\\n\\nI\\n\\nJ\\n\\nEM\\n\\nL\\n\\nM\\n\\nN\\n\\nO\\n\\nP\\n\\n| CONJUNTO DO TURBOCOMPRESSOR E                                                                                                                      |                                                 |\\n|----------------------------------------------------------------------------------------------------------------------------------------------------|-------------------------------------------------|\\n| COLETOR DE ESCAPE ................................... 39                                                                                           |                                                 |\\n| Vista Explodida ....................................................... 39                                                                         | ............................................ 40 |\\n| Remoção e Instalação Inspeção ................................................................. 43                                                 |                                                 |\\n| TURBOCOMPRESSOR .................................... 45                                                                                            |                                                 |\\n| Vista Explodida ....................................................... 45                                                                         |                                                 |\\n| ............................................ 45                                                                                                    |                                                 |\\n| Remoção e Instalação                                                                                                                               |                                                 |\\n| Inspeção ................................................................. 46                                                                      |                                                 |\\n| CÁRTER DE ÓLEO (INFERIOR) ...................... 48                                                                                                |                                                 |\\n| Vista Explodida ....................................................... 48                                                                         |                                                 |\\n| Remoção e Instalação ............................................ 49                                                                               |                                                 |\\n| Inspeção ................................................................. 50                                                                      |                                                 |\\n| VELA DE AQUECIMENTO ............................... 51                                                                                             |                                                 |\\n| Vista Explodida ....................................................... 51                                                                         |                                                 |\\n| Remoção e Instalação ............................................ 51                                                                               |                                                 |\\n| BOMBA DE VÁCUO ......................................... 52                                                                                        |                                                 |\\n| Vista Explodida ....................................................... 52                                                                         |                                                 |\\n| Remoção e Instalação ............................................ 52                                                                               |                                                 |\\n| SEPARADOR DE ÓLEO .................................. 54                                                                                            |                                                 |\\n| Vista Explodida ....................................................... 54                                                                         |                                                 |\\n| Remoção e Instalação ............................................ 54                                                                               |                                                 |\\n| TUBO DE INJEÇÃO E INJETOR DE COM-                                                                                                                  |                                                 |\\n| BUSTÍVEL ......................................................... 57                                                                              |                                                 |\\n| Vista Explodida ....................................................... 57                                                                         |                                                 |\\n| Remoção e Instalação ............................................ 57                                                                               |                                                 |\\n| Inspeção ................................................................. 59                                                                      |                                                 |\\n| BOMBA DE COMBUSTÍVEL ............................ 60                                                                                               |                                                 |\\n| Vista Explodida ....................................................... 60                                                                         |                                                 |\\n| Remoção e Instalação ............................................ 60                                                                               |                                                 |\\n| Inspeção ................................................................. 61                                                                      |                                                 |\\n| ENGRENAGEM DA BOMBA DE COMBUSTÍ-                                                                                                                   |                                                 |\\n| VEL ................................................................... 62                                                                         |                                                 |\\n| Vista Explodida ....................................................... 62                                                                         |                                                 |\\n| Remoção e Instalação ............................................ 62                                                                               |                                                 |\\n| CORRENTE DE SINCRONISMO ..................... 65                                                                                                   |                                                 |\\n| Vista Explodida ....................................................... 65                                                                         |                                                 |\\n| Remoção e Instalação ............................................ 67 Inspeção ................................................................. 71 |                                                 |\\n| ENGRENAGEM DE SINCRONISMO ............... 73                                                                                                       |                                                 |\\n| Vista Explodida ....................................................... 73                                                                         |                                                 |\\n| Remoção e Instalação ............................................ 74                                                                               |                                                 |\\n| COMANDO DE VÁLVULAS ............................. 77                                                                                               |                                                 |\\n| Vista Explodida ....................................................... 77                                                                         |                                                 |\\n| Remoção e Instalação ............................................ 77                                                                               |                                                 |\\n| Inspeção ................................................................. 81                                                                      |                                                 |\\n| VEDADOR DE ÓLEO ....................................... 83                                                                                         |                                                 |\\n| VEDADOR DE ÓLEO DIANTEIRO: Remoção e  Instalação ............................................................... 83                                |                                                 |\\n\\n| VEDADOR DE ÓLEO TRASEIRO: Remoção e  Instalação ................................................................84                            |                                      |\\n|-----------------------------------------------------------------------------------------------------------------------------------------------|--------------------------------------|\\n| REMOÇÃO E INSTALAÇÃO DA UNIDA- DE .............................................................. 85                                           |                                      |\\n| CONJUNTO DO MOTOR ..................................85                                                                                        |                                      |\\n| Vista Explodida .......................................................85                                                                     |                                      |\\n| Remoção e Instalação ............................................85                                                                           |                                      |\\n| Inspeção .................................................................89                                                                  |                                      |\\n| Inspeção ...............................................................101                                                                   |                                      |\\n| AJUSTE DO CAVALETE DE MOTOR ..............91 Ajuste ......................................................................91                  |                                      |\\n| PLACA DE ACIONAMENTO .............................92                                                                                          |                                      |\\n| Vista Explodida .......................................................92                                                                     |                                      |\\n| Remoção e Instalação ............................................92                                                                           |                                      |\\n| CÁRTER DE ÓLEO (SUPERIOR) .....................94                                                                                             |                                      |\\n| Vista Explodida .......................................................94 Remoção e Instalação ............................................95 |                                      |\\n| CABEÇOTE DO MOTOR                                                                                                                             | ..................................97 |\\n| Vista Explodida .......................................................97                                                                     |                                      |\\n| Remoção e Instalação ............................................97                                                                           |                                      |\\n| Desmontagem e Montagem ....................................99                                                                                 |                                      |\\n| BLOCO DO MOTOR .......................................103                                                                                     |                                      |\\n| Vista Explodida .....................................................103                                                                      |                                      |\\n| Desmontagem e Montagem ..................................104                                                                                  |                                      |\\n| Ajuste da Folga entre Dentes ...............................114                                                                               |                                      |\\n| Inspeção ...............................................................117                                                                   |                                      |\\n| COMO SELECIONAR PISTÃO E CASQUI-                                                                                                              |                                      |\\n| LHO ..................................................................124                                                                     |                                      |\\n| Descrição ..............................................................124                                                                   |                                      |\\n| Pistão ....................................................................124                                                                |                                      |\\n| Casquilho da Biela ................................................125                                                                        |                                      |\\n| Casquilho de mancal ............................................127                                                                           |                                      |\\n| DADOS E ESPECIFICAÇÕES DE SERVI- ÇO (SDS) ..................................................130                                               |                                      |\\n| DADOS E ESPECIFICAÇÕES DE SERVIÇO                                                                                                             |                                      |\\n| (SDS) ...............................................................130                                                                      |                                      |\\n| Especificações Gerais ..........................................130                                                                           |                                      |\\n| Correias de acionamento ......................................130                                                                             |                                      |\\n| Coletor de Admissão .............................................130                                                                          |                                      |\\n| Coletor de Escape ................................................130                                                                         |                                      |\\n| Turbocompressor ..................................................131                                                                         |                                      |\\n| Comando de válvulas ...........................................131                                                                            |                                      |\\n| Cabeçote do Motor ...............................................131                                                                          |                                      |\\n| Bloco do Motor ......................................................133                                                                      |                                      |\\n| Casquilho do mancal ............................................138                                                                           |                                      |\\n| Casquilho da Biela ................................................138                                                                        |                                      |\\n\\n## PRECAUÇÃO\\n\\n## PRECAUÇÕES\\n\\n## Precauções quanto ao Sistema de Proteção Complementar (SRS) \"AIRBAG\" e \"PRÉTENSIONADOR DO CINTO DE SEGURANÇA\" INFOID:0000000014545400\\n\\n- O Sistema de Proteção Complementar tal como o \"AIRBAG\" e o \"PRÉ-TENSIONADOR DO CINTO DE SEGURANÇA\", usado com o cinto de segurança dianteiro, ajuda a reduzir o risco ou gravidade de ferimentos sofridos pelo motorista ou passageiro dianteiro em certos tipos de colisão. As informações necessárias para reparar o sistema com segurança estão inclusas nas seções SR e SB deste Manual de Serviço.\\n\\n## ATENÇÃO:\\n\\n- · Para evitar que o sistema SRS fique inoperante, aumentando assim o risco de ferimentos graves ou morte no caso de uma colisão em que o airbag seria inflado, toda manutenção deste sistema deve ser realizada somente por uma Concessionária Autorizada NISSAN.\\n- · A manutenção inadequada, incluindo a remoção e a instalação incorretas do SRS, pode resultar em lesões causadas pela ativação não intencional do sistema. Para a remoção do Cabo Espiral e do Módulo do Airbag, consulte a seção SR.\\n- · Não use equipamentos elétricos de teste em qualquer circuito relacionado ao SRS, a não ser que haja alguma instrução nesse sentido neste Manual de Serviço. Os chicotes elétricos do SRS podem ser identificados pela cor amarelo e/ou laranja nos respectivos chicotes ou conectores.\\n\\nPRECAUÇÕES QUANDO UTILIZAR FERRAMENTAS DE FORÇA (PNEUMÁTICA OU ELÉTRICA) E MARTELOS\\n\\n## ATENÇÃO:\\n\\n- · Ao trabalhar próximo a Unidade de Diagnóstico do Sensor do Airbag ou outros sensores do Sistema de Airbag com a ignição na posição ON ou com o motor em funcionamento, NÃO utilize ferramenta de força pneumática ou elétrica ou bata próximo aos sensores com um martelo. Fortes vibrações podem ativar os sensores e acionar os airbags, podendo causar ferimentos graves.\\n- · Quando usar ferramentas de força pneumática ou elétrica ou martelos, sempre coloque o interruptor de ignição na posição OFF, desconecte a bateria ou baterias, e espere pelo menos três minutos antes de realizar qualquer serviço.\\n\\nPrecauções Necessárias para a Rotação do Volante de Direção após Desconectar a Bateria INFOID:0000000014267210\\n\\n## NOTA:\\n\\n- · Antes de remover e instalar qualquer unidade de controle, coloque primeiramente o interruptor da ignição na posição LOCK e em seguida, desconecte os cabos da bateria.\\n- · Após finalizar o trabalho, confirme se todos os conectores da unidade de controle estão conectados corretamente, e então, reconecte os dois cabos da bateria.\\n- · Sempre utilize o CONSULT para executar o autodiagnóstico como parte de cada inspeção, após finalizar o serviço. Se o DTC for detectado, execute o diagnóstico de falha de acordo com os resultados do autodiagnóstico.\\n\\nEste veículo é equipado com um botão do interruptor da ignição e uma unidade da trava da direção. Se a bateria estiver desconectada ou descarregada, o volante de direção travará e não poderá ser girado. Se for necessário girar o volante de direção quando a bateria estiver desconectada ou descarregada, siga o procedimento de operação abaixo, antes de iniciar o reparo.\\n\\n## PROCEDIMENTO DE OPERAÇÃO\\n\\n- 1. Conecte ambos os cabos da bateria. NOTA:\\n\\nSe a bateria estiver descarregada, forneça energia, através de cabos para partida auxiliar.\\n\\n- 2. Tenha posse da chave inteligente ou insira-a em seu alojamento e coloque o interruptor da ignição na posição ACC. (Neste momento, a trava da direção será liberada.)\\n- (Neste momento, a trava da direção será liberada.)\\n- 3. Desconecte ambos os cabos da bateria. A trava da direção irá permanecer liberada com ambos os cabos da bateria desconectados e o volante de direção poderá ser girado.\\n- 4. Execute a operação de reparo necessária.\\n\\nA\\n\\nB\\n\\nC\\n\\nD\\n\\nE\\n\\nF\\n\\nG\\n\\nH\\n\\nI\\n\\nJ\\n\\nEM\\n\\nL\\n\\nM\\n\\nN\\n\\nO\\n\\nP\\n\\n- 5. Quando o serviço de reparo estiver completo, reconecte ambos os cabos da bateria. Com o pedal do freio liberado, coloque o interruptor de ignição da posição ACC para a posição ON, em seguida, para a posição LOCK. (O volante de direção irá travar quando o interruptor de ignição for colocado na posição LOCK.)\\n- 6. Execute uma verificação de autodiagnóstico de todas as unidades de controle, utilizando CONSULT.\\n\\n## Precauções para Procedimentos sem a Cobertura Superior do Painel Dash\\n\\nINFOID:0000000014267211\\n\\nAo executar o procedimento após remover a cobertura superior do painel dash, cubra a extremidade inferior do para-brisa com uma capa plástica, etc. para evitar danificar o para-brisa.\\n\\n## Precauções para Serviço no Motor\\n\\n<!-- image -->\\n\\nINFOID:0000000014267212\\n\\n## DESCONEXÃO DO TUBO DE COMBUSTÍVEL\\n\\n- · Antes de iniciar o serviço, verifique a existência de itens que produzem faíscas ou fogo na área de trabalho.\\n- Libere a pressão de combustível antes de desconectar e desmontar.\\n- · Após desconectar os tubos, feche as aberturas para interromper o vazamento de combustível.\\n\\n## DRENAGEM DO LÍQUIDO DE ARREFECIMENTO DO MOTOR\\n\\nDrene o líquido de arrefecimento do motor e o óleo'"
      ]
     },
     "execution_count": 50,
     "metadata": {},
     "output_type": "execute_result"
    }
   ],
   "source": [
    "raw_text[:30000]"
   ]
  },
  {
   "cell_type": "code",
   "execution_count": 70,
   "metadata": {},
   "outputs": [],
   "source": [
    "text_splitter = RecursiveCharacterTextSplitter(\n",
    "    chunk_size=300,\n",
    "    chunk_overlap=200,\n",
    "    length_function=len,\n",
    "    is_separator_regex=False,\n",
    ")"
   ]
  },
  {
   "cell_type": "code",
   "execution_count": 71,
   "metadata": {},
   "outputs": [],
   "source": [
    "chunks_nissan = text_splitter.split_text(text=raw_text)"
   ]
  },
  {
   "cell_type": "code",
   "execution_count": null,
   "metadata": {},
   "outputs": [],
   "source": [
    "for i in range(10):\n",
    "    print(chunks_nissan[i])\n",
    "    print('*'*100)"
   ]
  },
  {
   "cell_type": "code",
   "execution_count": 72,
   "metadata": {},
   "outputs": [],
   "source": [
    "db_nissan_docling = FAISS.from_texts(texts=chunks_nissan, embedding=embedding_model)"
   ]
  },
  {
   "cell_type": "code",
   "execution_count": 73,
   "metadata": {},
   "outputs": [],
   "source": [
    "retriever_nissan_docling = db_nissan_docling.as_retriever()"
   ]
  },
  {
   "cell_type": "code",
   "execution_count": 74,
   "metadata": {},
   "outputs": [
    {
     "data": {
      "text/plain": [
       "[Document(metadata={}, page_content='- · Utilize o procedimento abaixo para verificar a existência de vazamentos de combustível.'),\n",
       " Document(metadata={}, page_content='- · Coloque o interruptor de ignição na posição OFF assim que o motor de partida parar (a fim de manter inibida a partida no motor e medir a compressão nos outros cilindros).'),\n",
       " Document(metadata={}, page_content='## Nunca apóie no cárter de óleo (inferior).'),\n",
       " Document(metadata={}, page_content='- · Mova sem remover a presilha da mangueira de retorno de combustível, utilizando uma chave de fenda.\\n- (1) : Direção de movimento\\n- 4. Desconecte e remova a mangueira de combustível.\\n- 5. Remova o coletor de combustível e o tubo de injeção (central).\\n- 6. Remova o tubo de injeção (Nº 1, 2, 3, 4).')]"
      ]
     },
     "execution_count": 74,
     "metadata": {},
     "output_type": "execute_result"
    }
   ],
   "source": [
    "retriever_nissan_docling.invoke(\"Como remover o filtro e duto de ar?\")"
   ]
  },
  {
   "cell_type": "code",
   "execution_count": 77,
   "metadata": {},
   "outputs": [
    {
     "name": "stdout",
     "output_type": "stream",
     "text": [
      "\n",
      "Você é um assistente que fornece respostas para questões baseadas em um dado contexto.\n",
      "\n",
      "Responda a questão baseado no contexto. Se você não souber responser, responda \"Eu não sei\".\n",
      "\n",
      "Seja conciso o máximo possível e bem direto ao ponto.\n",
      "\n",
      "Context: Algum contexto aqui\n",
      "\n",
      "Question: Alguma questão aqui\n",
      "\n"
     ]
    }
   ],
   "source": [
    "template = \"\"\"\n",
    "Você é um assistente que fornece respostas para questões baseadas em um dado contexto.\n",
    "\n",
    "Responda a questão baseado no contexto. Se você não souber responser, responda \"Eu não sei\".\n",
    "\n",
    "Seja conciso o máximo possível e bem direto ao ponto.\n",
    "\n",
    "Context: {context}\n",
    "\n",
    "Question: {question}\n",
    "\"\"\"\n",
    "prompt = PromptTemplate.from_template(template)\n",
    "print(prompt.format(context=\"Algum contexto aqui\", question=\"Alguma questão aqui\"))\n"
   ]
  },
  {
   "cell_type": "code",
   "execution_count": 78,
   "metadata": {},
   "outputs": [],
   "source": [
    "questions = [\n",
    "    \"Como remover o filtro de ar?\",\n",
    "    \"Como remover o tensionador automático da correia de acionamento de acessórios e polia intermediária?\",\n",
    "    \"Quais são as principais peças do filtro de ar (Intercooler)?\",\n",
    "]"
   ]
  },
  {
   "cell_type": "code",
   "execution_count": 79,
   "metadata": {},
   "outputs": [
    {
     "name": "stdout",
     "output_type": "stream",
     "text": [
      "Question: Como remover o filtro de ar?\n",
      "Answer: I don't know.\n",
      "****************************************************************************************************\n",
      "\n",
      "Question: Como remover o tensionador automático da correia de acionamento de acessórios e polia intermediária?\n",
      "Answer: I don't know.\n",
      "****************************************************************************************************\n",
      "\n",
      "Question: Quais são as principais peças do filtro de ar (Intercooler)?\n",
      "Answer: I don't know.\n",
      "****************************************************************************************************\n",
      "\n"
     ]
    }
   ],
   "source": [
    "chain_nissa_docling = (\n",
    "    {\n",
    "        \"context\": itemgetter(\"question\") | retriever_nissan_docling,\n",
    "        \"question\": itemgetter(\"question\"),\n",
    "    }\n",
    "    | prompt\n",
    "    | model\n",
    "    | parser\n",
    ")\n",
    "\n",
    "for question in questions:\n",
    "    print(f\"Question: {question}\")\n",
    "    print(f\"Answer: {chain.invoke({'question': question})}\")\n",
    "    print(100 * \"*\" + \"\\n\")"
   ]
  },
  {
   "cell_type": "code",
   "execution_count": null,
   "metadata": {},
   "outputs": [],
   "source": []
  }
 ],
 "metadata": {
  "kernelspec": {
   "display_name": "rag",
   "language": "python",
   "name": "python3"
  },
  "language_info": {
   "codemirror_mode": {
    "name": "ipython",
    "version": 3
   },
   "file_extension": ".py",
   "mimetype": "text/x-python",
   "name": "python",
   "nbconvert_exporter": "python",
   "pygments_lexer": "ipython3",
   "version": "3.10.15"
  }
 },
 "nbformat": 4,
 "nbformat_minor": 2
}
